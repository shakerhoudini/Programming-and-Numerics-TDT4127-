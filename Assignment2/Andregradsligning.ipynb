{
 "cells": [
  {
   "cell_type": "markdown",
   "metadata": {
    "Collapsed": "false",
    "deletable": false,
    "editable": false,
    "run_control": {
     "frozen": true
    }
   },
   "source": [
    "<nav class=\"navbar navbar-default\">\n",
    "  <div class=\"container-fluid\">\n",
    "    <div class=\"navbar-header\">\n",
    "      <a class=\"navbar-brand\" href=\"_Oving2.ipynb\">Øving 2</a>\n",
    "    </div>\n",
    "    <ul class=\"nav navbar-nav\">\n",
    "    <li><a href=\"Ulike%20typer%20if-setninger.ipynb\">Ulike typer if-setninger</a></li>\n",
    "    <li><a href=\"Sammenligning%20av%20strenger.ipynb\">Sammenligning av strenger</a></li>\n",
    "    <li><a href=\"Logiske%20operatorer%20og%20logiske%20uttrykk.ipynb\">Logiske operatorer og logiske uttrykk</a></li>\n",
    "    <li><a href=\"Forbrytelse%20og%20straff.ipynb\">Forbrytelse og straff</a></li>\n",
    "    <li><a href=\"Aarstider.ipynb\">Årstider</a></li>\n",
    "    <li><a href=\"Sjakkbrett.ipynb\">Sjakkbrett</a></li>\n",
    "    <li><a href=\"Billettpriser%20og%20rabatter.ipynb\">Billettpriser og rabatter</a></li>\n",
    "    <li><a href=\"Skatteetaten.ipynb\">Skatteetaten</a></li>\n",
    "    <li><a href=\"Epletigging.ipynb\">Datamaskinen som tigget epler</a></li>\n",
    "    <li class=\"active\"><a href=\"Andregradsligning.ipynb\">Andregradsligning</a></li>\n",
    "    </ul>\n",
    "  </div>\n",
    "</nav>\n",
    "\n",
    "# Andregradsligning\n",
    "\n",
    "**Læringsmål:**\n",
    "- Betingelser\n",
    "\n",
    "**Starting Out with Python:**\n",
    "- Kap. 3.4"
   ]
  },
  {
   "cell_type": "markdown",
   "metadata": {
    "Collapsed": "false",
    "deletable": false,
    "editable": false,
    "run_control": {
     "frozen": true
    }
   },
   "source": [
    "I denne oppgaven skal du lage et program som tar inn input fra brukeren om tallene i en andregradsligning, og returnerer hvorvidt ligningen har to reelle løsninger, to imaginære løsninger eller én reell dobbeltrot. I tillegg skal programmet returnere løsningene dersom de er reelle.\n",
    "\n",
    "Den generelle formen til en andregradsligning er \n",
    "\n",
    "\\begin{equation*}\n",
    "ax^2 + bx + c = 0\n",
    "\\end{equation*}\n",
    "\n",
    "For å finne ut hvor mange løsninger og hvilket løsningsområde en andregradsligning har, kan man bruke *diskriminanten*\n",
    "\n",
    "\\begin{equation*}\n",
    "d = b^2 - 4ac\n",
    "\\end{equation*}\n",
    "\n",
    "og tabellen:\n",
    "\n",
    "Tilfelle|Løsningsområde|Antall røtter\n",
    "---|---|---\n",
    "d < 0|Imaginær|2\n",
    "d > 0|Reell|2\n",
    "d = 0|Reell\t1|(dobbeltrot)"
   ]
  },
  {
   "cell_type": "markdown",
   "metadata": {
    "Collapsed": "false",
    "deletable": false,
    "editable": false,
    "run_control": {
     "frozen": true
    }
   },
   "source": [
    "## a) Finn riktig type løsning"
   ]
  },
  {
   "cell_type": "markdown",
   "metadata": {
    "Collapsed": "false",
    "deletable": false,
    "editable": false,
    "run_control": {
     "frozen": true
    }
   },
   "source": [
    "***Lag et program som ber om de tre verdiene a, b og c, regner ut d, og forteller brukeren om ligningen har to imaginære løsninger, to reelle løsninger, eller én reell dobbeltrot.***\n",
    "\n",
    "Sjekk for alle de tre mulige utfallene:\n",
    "\n",
    "- To imaginære løsninger\n",
    "  - f.eks.: a = 2, b = 4, c = 9\n",
    "- To reelle løsninger\n",
    "  - f.eks.: a = 2, b = -5, c = 0\n",
    "- Én reell dobbeltrot\n",
    "  - f.eks.: a = 2, b = 4, c = 2\n",
    "  \n",
    "***Skriv koden under***"
   ]
  },
  {
   "cell_type": "code",
   "execution_count": 19,
   "metadata": {
    "Collapsed": "false"
   },
   "outputs": [
    {
     "name": "stdin",
     "output_type": "stream",
     "text": [
      "Type inn value a: 2\n",
      "Type inn value b: 4\n",
      "Type inn value c: 9\n"
     ]
    },
    {
     "name": "stdout",
     "output_type": "stream",
     "text": [
      "\n",
      "The quadratic equation 2.0x^2 4.0x 9.0 has:\n",
      "\n",
      "Two imaginary solutions\n"
     ]
    }
   ],
   "source": [
    "import math as m\n",
    "\n",
    "a = float(input(\"Type inn value a:\"))\n",
    "b = float(input(\"Type inn value b:\"))\n",
    "c = float(input(\"Type inn value c:\"))\n",
    "\n",
    "d = b**2 - 4*a*c\n",
    "\n",
    "if d < 0:\n",
    "    print(f\"\\nThe quadratic equation {a}x^2 {b}x {c} has:\")\n",
    "    print(\"\\nTwo imaginary solutions\")\n",
    "elif d == 0:\n",
    "    print(f\"\\nThe quadratic equation {a}x^2 {b}x {c} has:\")\n",
    "    print(\"\\nOne double root\")\n",
    "    x1 = (-b+m.sqrt(d))/(2*a)\n",
    "    print(f\"Solution is: {x1}\")\n",
    "else:\n",
    "    print(f\"\\nThe quadratic equation {a}x^2 {b}x {c} has:\")\n",
    "    print(\"Two real solutions!\\n\")\n",
    "    x1 = (-b+m.sqrt(d))/(2*a)\n",
    "    x2 = (-b-m.sqrt(d))/(2*a)\n",
    "    print(f\"Solution number one is: {x1}\")\n",
    "    print(f\"Solution number two is: {x2}\")"
   ]
  },
  {
   "cell_type": "markdown",
   "metadata": {
    "Collapsed": "false",
    "deletable": false,
    "editable": false,
    "run_control": {
     "frozen": true
    }
   },
   "source": [
    "## b) Reelle løsninger"
   ]
  },
  {
   "cell_type": "markdown",
   "metadata": {
    "Collapsed": "false",
    "deletable": false,
    "editable": false,
    "run_control": {
     "frozen": true
    }
   },
   "source": [
    "***Utvid nå programmet i a) slik at bruker får vite løsningen(e) dersom de(n) er reell(e)***\n",
    "\n",
    "Andregradsformelen for å finne løsningen(e) er:\n",
    "\n",
    "\\begin{equation*}\n",
    "x=\\frac{-b±\\sqrt{d}}{2a}\n",
    "\\end{equation*}\n",
    "\n",
    "**Eksempel på kjøring av kode:**\n",
    "\n",
    "```python\n",
    "#Eksempel 1: imaginære løsninger  \n",
    "a: 2  \n",
    "b: 4  \n",
    "c: 9  \n",
    "Andregradsligningen 2.00*x^2 + 4.00*x + 9.00 har to imaginære løsninger\n",
    "```\n",
    "\n",
    "```python\n",
    "#Eksempel 2: reelle løsninger\n",
    "a: 2\n",
    "b: -5\n",
    "c: 0\n",
    "Andregradsligningen 2.00*x^2 -5.00*x + 0.00 har de to reelle løsningene 2.50 og 0.00\n",
    "```\n",
    "\n",
    "```python\n",
    "#Eksempel 3: reell dobbeltrot\n",
    "a: 2\n",
    "b: 4\n",
    "c: 2\n",
    "Andregradsligningen 2.00*x^2 + 4.00*x + 2.00 har en reell dobbeltrot -1.00\n",
    "```"
   ]
  },
  {
   "cell_type": "markdown",
   "metadata": {
    "Collapsed": "false",
    "deletable": false,
    "editable": false,
    "run_control": {
     "frozen": true
    }
   },
   "source": [
    "## C) (FRIVILLIG) Loss of significance"
   ]
  },
  {
   "cell_type": "markdown",
   "metadata": {
    "Collapsed": "false"
   },
   "source": [
    "Andregradsformelen kan i enkelte tilfeller gi feil svar. Et slikt tilfelle er når man bruker den på likningen  $x^2+9^{12}x−3=0$ . Om man ønsker å finne røttene til denne likningen, gir standardformelen følgende resultat:\n",
    "\n",
    "```python\n",
    "Andregradsligningen 1.00*x^2 + 282429536481.00*x -3.00 har de to reelle løsningene 0.000e+00 og -2.824e+11\n",
    "```\n",
    "\n",
    "Her er bare den siste av røttene korrekt. Den første roten er ukorrekt blitt null pga. avrundingsfeil som følge av tap av presisjon i beregningen, korrekt svar ville ha vært:\n",
    "\n",
    "```python\n",
    "Andregradsligningen 1.00*x^2 + 282429536481.00*x -3.00 har de to reelle løsningene 1.062e-11 og -2.824e+11\n",
    "```\n",
    "Hva kommer denne feilen av? ***Gjør om på programmet slik at det tar hensyn til slike tilfeller.***\n",
    "\n",
    "**Eksempel på kjøring**\n",
    "```python\n",
    "#a = 0.25, b = 18000, c = 1\n",
    "#Gammel kode som gir feil svar:\n",
    "Andregradsligningen 0.25*x^2 + 18000.00*x + 1.00 har de to reelle løsningene -0.00 og -72000.00\n",
    "#Ny kode som gir korrekt svar:\n",
    "Andregradsligningen 0.25*x^2 + 18000.00*x + 1.00 har de to reelle løsningene -5.556e-05 og -7.200e+04\n",
    "  \n",
    "#a = 10, b = 25000, c = 0.015\n",
    "#Gammel kode som gir feil svar:\n",
    "Andregradsligningen 10.00*x^2 + 25000.00*x + 0.01 har de to reelle løsningene -0.00 og -2500.00\n",
    "#Ny kode som gir korrekt svar:\n",
    "Andregradsligningen 10.00*x^2 + 25000.00*x + 0.01 har de to reelle løsningene -6.000e-07 og -2.500e+03\n",
    "```"
   ]
  },
  {
   "cell_type": "code",
   "execution_count": null,
   "metadata": {},
   "outputs": [
    {
     "name": "stdin",
     "output_type": "stream",
     "text": [
      "Skriv inn verdi for a:  10\n"
     ]
    }
   ],
   "source": [
    "import math as m\n",
    "\n",
    "# Få verdiene for a, b og c fra brukeren\n",
    "a = float(input(\"Skriv inn verdi for a: \"))\n",
    "b = float(input(\"Skriv inn verdi for b: \"))\n",
    "c = float(input(\"Skriv inn verdi for c: \"))\n",
    "\n",
    "# Beregn diskriminanten\n",
    "d = b**2 - 4*a*c\n",
    "\n",
    "# Funksjon for å beregne røtter med numerisk stabilitet\n",
    "def numerically_stable_roots(a, b, c, d):\n",
    "    if b > 0:\n",
    "        x1 = (-b - m.sqrt(d)) / (2 * a)\n",
    "        x2 = (2 * c) / (-b - m.sqrt(d))\n",
    "    else:\n",
    "        x1 = (-b + m.sqrt(d)) / (2 * a)\n",
    "        x2 = (2 * c) / (-b + m.sqrt(d))\n",
    "    return x1, x2\n",
    "\n",
    "# Håndtering av ulike tilfeller basert på diskriminanten\n",
    "if d < 0:\n",
    "    print(f\"\\nAndragradsligningen {a}x^2 + {b}x + {c} = 0 har:\")\n",
    "    print(\"To imaginære løsninger\")\n",
    "elif d == 0:\n",
    "    print(f\"\\nAndragradsligningen {a}x^2 + {b}x + {c} = 0 har:\")\n",
    "    print(\"En dobbel rot\")\n",
    "    x1 = -b / (2 * a)\n",
    "    print(f\"Løsningen er: {x1}\")\n",
    "else:\n",
    "    print(f\"\\nAndragradsligningen {a}x^2 + {b}x + {c} = 0 har:\")\n",
    "    print(\"To reelle løsninger!\")\n",
    "    # Beregn røttene med numerisk stabilitet\n",
    "    x1, x2 = numerically_stable_roots(a, b, c, d)\n",
    "    print(f\"Løsning nummer en er: {x1}\")\n",
    "    print(f\"Løsning nummer to er: {x2}\")\n"
   ]
  },
  {
   "cell_type": "markdown",
   "metadata": {
    "Collapsed": "false",
    "deletable": false,
    "editable": false,
    "heading_collapsed": true,
    "run_control": {
     "frozen": true
    }
   },
   "source": [
    "#### Hint"
   ]
  },
  {
   "cell_type": "markdown",
   "metadata": {
    "Collapsed": "false",
    "deletable": false,
    "editable": false,
    "hidden": true,
    "run_control": {
     "frozen": true
    }
   },
   "source": [
    "Om du sliter, kan det være nyttig å lese dette:\n",
    "\n",
    "- [NumericallyStableSolutionForTheQuadraticEquations](http://www.solipsys.co.uk/cgi-bin/sews.py?NumericallyStableSolutionForTheQuadraticEquation)\n",
    "- [Numerically Stable Method for Solving Quadratic Equations](https://people.csail.mit.edu/bkph/articles/Quadratics.pdf)"
   ]
  }
 ],
 "metadata": {
  "kernelspec": {
   "display_name": "Python 3 (ipykernel)",
   "language": "python",
   "name": "python3"
  },
  "language_info": {
   "codemirror_mode": {
    "name": "ipython",
    "version": 3
   },
   "file_extension": ".py",
   "mimetype": "text/x-python",
   "name": "python",
   "nbconvert_exporter": "python",
   "pygments_lexer": "ipython3",
   "version": "3.11.6"
  },
  "toc": {
   "base_numbering": 1,
   "nav_menu": {},
   "number_sections": false,
   "sideBar": true,
   "skip_h1_title": false,
   "title_cell": "Table of Contents",
   "title_sidebar": "Contents",
   "toc_cell": false,
   "toc_position": {},
   "toc_section_display": true,
   "toc_window_display": false
  }
 },
 "nbformat": 4,
 "nbformat_minor": 4
}
