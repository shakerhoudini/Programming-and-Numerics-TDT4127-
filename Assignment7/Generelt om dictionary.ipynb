{
 "cells": [
  {
   "cell_type": "markdown",
   "metadata": {
    "deletable": false,
    "editable": false,
    "run_control": {
     "frozen": true
    }
   },
   "source": [
    "<nav class=\"navbar navbar-default\">\n",
    "  <div class=\"container-fluid\">\n",
    "    <div class=\"navbar-header\">\n",
    "      <a class=\"navbar-brand\" href=\"_Oving9.ipynb\">Øving 9</a>\n",
    "    </div>\n",
    "    <ul class=\"nav navbar-nav\">\n",
    "    <li class=\"active\"><a href=\"Generelt%20om%20dictionary.ipynb\">Generelt om dictionary</a></li>\n",
    "    <li ><a href=\"Innebygde%20funksjoner%20i%20dictionaries.ipynb\">Innebygde funksjoner</a></li>\n",
    "    <li ><a href=\"Generelt%20om%20sets.ipynb\">Generelt om sets</a></li>\n",
    "    <li ><a href=\"Generelt%20om%20filbehandling.ipynb\">Generelt om filbehandling</a></li>\n",
    "    <li ><a href=\"Osteviruset.ipynb\">Osteviruset</a></li>\n",
    "    <li ><a href=\"Bursdagsdatabasen.ipynb\">Bursdagsdatabasen</a></li>\n",
    "    <li ><a href=\"Tallak%20teller%20antall%20tall.ipynb\">Tallak teller antall tall</a></li>\n",
    "    <li ><a href=\"Opptaksgrenser.ipynb\">Opptaksgrenser</a></li>\n",
    "    <li ><a href=\"Soke%20i%20tekst.ipynb\">Søke i tekst</a></li>\n",
    "    <li ><a href=\"Tre%20paa%20rad.ipynb\">Tre på rad</a></li>\n",
    "    </ul>\n",
    "  </div>\n",
    "</nav>\n",
    "\n",
    "# Generelt om dictionary\n",
    "\n",
    "**Læringsmål:**\n",
    "- Dictionary\n",
    "\n",
    "**Starting Out with Python:**\n",
    "- Kap. 9: Dictionaries"
   ]
  },
  {
   "cell_type": "markdown",
   "metadata": {
    "deletable": false,
    "editable": false,
    "heading_collapsed": true,
    "run_control": {
     "frozen": true
    }
   },
   "source": [
    "## Generelt om dictionaries"
   ]
  },
  {
   "cell_type": "markdown",
   "metadata": {
    "deletable": false,
    "editable": false,
    "hidden": true,
    "run_control": {
     "frozen": true
    }
   },
   "source": [
    "En dictionary er et objekt som lagrer en samling av data, og kan minne mye om en liste. Det som skiller en dictionary fra en liste er at hvert element i en dictionary består av to deler: En nøkkel(a key) og en verdi(a value). En nøkkel peker til en verdi, og man bruker nøkkelen for å hente ut verdien.\n",
    "\n",
    "- key: Nøklene kan være flyttall, heltall strenger eller tupler. Nøklene må være unike.\n",
    "- values: Innholdet som nøkkelen peker til. Dette kan være lister, strenger, heltall, osv.\n",
    "\n",
    "For eksempel kan du tenke på en engelsk-norsk ordbok hvor engelske ord er ramset opp i alfabetisk rekkefølge, og til hvert engelske ord finner du en rekke norske alternativer for dette ordet.\n",
    "\n",
    "![img](./../../Resources/Images/dictionary_eksempel.png)\n",
    "\n",
    "På bildet over er \"Learning\" nøkkelen, mens verdien kan være en liste av de norske alternativene, verdi = \\[bli opplært, innlæring, lærdom etc.\\]. For å få tak i denne verdien (listen med norske oversettelser) må man slå opp på nøkkelen (Learning).\n",
    "\n",
    "En dictionary opprettes på to måter\n",
    "\n",
    "- dictionary = dict()\n",
    "- dictionary = {}, til forskjell fra lister er det her krøllparenteser(bracets) og ikke hakeparenteser.\n",
    "\n",
    "Et eksempel på bruk av dictionaries er gitt nedenfor:"
   ]
  },
  {
   "cell_type": "code",
   "execution_count": 1,
   "metadata": {
    "hidden": true
   },
   "outputs": [
    {
     "name": "stdout",
     "output_type": "stream",
     "text": [
      "74839220\n",
      "65748329\n"
     ]
    }
   ],
   "source": [
    "telephone_numbers = {'arne': 99748391, 'knut': 74839220, 'siri': [92835674, 65748329]}  # Oppretter en dictionary med tre oppføringer\n",
    "print(telephone_numbers['knut'])  # Skriver ut knut sitt telefonnummer\n",
    "print(telephone_numbers['siri'][1])  # Skriver ut det andre telefonnummeret i listen av Siri sine telefonnummer\n"
   ]
  },
  {
   "cell_type": "markdown",
   "metadata": {
    "deletable": false,
    "editable": false,
    "hidden": true,
    "run_control": {
     "frozen": true
    }
   },
   "source": [
    "Her er 'arne' den første nøkkelen, og 99748391 er den tilhørende verdien. 'knut' er den andre nøkkelen og 'siri' er den siste nøkkelen.\n",
    "\n",
    "For å legge til et nytt key-value-par i dictionarien kan du gjøre følgende:"
   ]
  },
  {
   "cell_type": "code",
   "execution_count": null,
   "metadata": {
    "hidden": true
   },
   "outputs": [],
   "source": [
    "telephone_numbers['stian'] = 82935829  # Legger Stian til i dictionarien\n",
    "print (telephone_numbers)  # Skriver ut hele telefonlisten"
   ]
  },
  {
   "cell_type": "markdown",
   "metadata": {
    "deletable": false,
    "editable": false,
    "hidden": true,
    "run_control": {
     "frozen": true
    }
   },
   "source": [
    "Dersom du skal ha tak i en verdi, må du slå opp på nøkkelen. La oss si at du ønsker å vite nummeret til arne, da må du skrive følgende:"
   ]
  },
  {
   "cell_type": "code",
   "execution_count": null,
   "metadata": {
    "hidden": true
   },
   "outputs": [],
   "source": [
    "telephone_numbers['arne']"
   ]
  },
  {
   "cell_type": "markdown",
   "metadata": {
    "deletable": false,
    "editable": false,
    "run_control": {
     "frozen": true
    }
   },
   "source": [
    "# a)"
   ]
  },
  {
   "cell_type": "markdown",
   "metadata": {
    "deletable": false,
    "editable": false,
    "run_control": {
     "frozen": true
    }
   },
   "source": [
    "***Opprett en tom dictionary my_family i kodeblokken under.***"
   ]
  },
  {
   "cell_type": "code",
   "execution_count": 2,
   "metadata": {},
   "outputs": [],
   "source": [
    "my_family = {}"
   ]
  },
  {
   "cell_type": "markdown",
   "metadata": {
    "deletable": false,
    "editable": false,
    "run_control": {
     "frozen": true
    }
   },
   "source": [
    "# b)"
   ]
  },
  {
   "cell_type": "markdown",
   "metadata": {
    "deletable": false,
    "editable": false,
    "run_control": {
     "frozen": true
    }
   },
   "source": [
    "Lag en funksjon `add_family_member(role, name)` som tar inn to strenger, `rolle`(key) og `navn`(value), og legger familiemedlemmet til i dictionaryen `my_family`.\n",
    "\n",
    "***Skriv koden din i kodeblokken under***"
   ]
  },
  {
   "cell_type": "code",
   "execution_count": 5,
   "metadata": {},
   "outputs": [
    {
     "data": {
      "text/plain": [
       "'Family member Shaker, added'"
      ]
     },
     "execution_count": 5,
     "metadata": {},
     "output_type": "execute_result"
    }
   ],
   "source": [
    "def add_family_member(role, name): \n",
    "    my_family[name] = role \n",
    "    return f\"Family member {name}, added\" \n",
    "\n",
    "role = \"Daddy\" \n",
    "name = \"Shaker\"\n",
    "add_family_member(role, name)"
   ]
  },
  {
   "cell_type": "markdown",
   "metadata": {
    "deletable": false,
    "editable": false,
    "run_control": {
     "frozen": true
    }
   },
   "source": [
    "For å teste koden din kan du kjøre kodeblokken under. "
   ]
  },
  {
   "cell_type": "code",
   "execution_count": 6,
   "metadata": {},
   "outputs": [
    {
     "name": "stdout",
     "output_type": "stream",
     "text": [
      "{'Shaker': 'Daddy', 'Arne': 'bror'}\n",
      "{'Shaker': 'Daddy', 'Arne': 'bror', 'Bob Bernt': 'far'}\n"
     ]
    }
   ],
   "source": [
    "add_family_member('bror', 'Arne')\n",
    "print (my_family)\n",
    "add_family_member('far', 'Bob Bernt')\n",
    "print (my_family)"
   ]
  },
  {
   "cell_type": "markdown",
   "metadata": {
    "deletable": false,
    "editable": false,
    "run_control": {
     "frozen": true
    }
   },
   "source": [
    "Hvis du har gjort alt riktig skal output fra blokken over bli:\n",
    "```\n",
    "{'bror': 'Arne'}\n",
    "{'bror': 'Arne', 'far': 'Bob Bernt'}\n",
    "```"
   ]
  },
  {
   "cell_type": "markdown",
   "metadata": {
    "deletable": false,
    "editable": false,
    "run_control": {
     "frozen": true
    }
   },
   "source": [
    "# c)"
   ]
  },
  {
   "cell_type": "markdown",
   "metadata": {
    "deletable": false,
    "editable": false,
    "run_control": {
     "frozen": true
    }
   },
   "source": [
    "Hvis du ønsker å legge til flere familiemedlemmer med samme rolle (f.eks. to brødre), må du lage en liste som inneholder alle dine brødre.\n",
    "\n",
    "Når du har gjort dette kan du bruke vanlige liste-metoder som .append() og .pop() for å legge til eller fjerne elementer fra listen.\n",
    "\n",
    "*Nå skal du utvide funksjonaliteten fra b) slik at du kan legge til flere familiemedlemmer med samme rolle.*\n",
    "\n",
    "\n",
    "**Hint:** \n",
    "- Du må ha en liste med navn for hver rolle.\n",
    "\n",
    "- For å sjekke om en rolle finnes fra før av kan du bruke \"if key in dict\". Du kan også løse dette med unntakshåndtering.\n",
    "\n",
    "***Kopier koden din fra oppgave b) til kodeblokken under og utvid programmet til å støtte flere familiemedlemmer med samme rolle***"
   ]
  },
  {
   "cell_type": "code",
   "execution_count": 22,
   "metadata": {},
   "outputs": [
    {
     "name": "stdout",
     "output_type": "stream",
     "text": [
      "{'Bror': ['Arne', 'Geir'], 'Mor': ['Anne']}\n"
     ]
    }
   ],
   "source": [
    "my_family = {}\n",
    "\n",
    "\n",
    "def add_family_member(role, name):\n",
    "    if role in my_family:\n",
    "        # Hvis rollen finnes, legger vi til navnet i listen\n",
    "        my_family[role].append(name)\n",
    "    else:\n",
    "        # Hvis rollen ikke finnes, oppretter vi en liste med det første navnet\n",
    "        my_family[role] = [name]\n",
    "    \n",
    "    return f\"Family member {name}, added\"\n",
    "\n",
    "# Legger til familiemedlemmer\n",
    "add_family_member('Bror', 'Arne')\n",
    "add_family_member('Mor', 'Anne')\n",
    "add_family_member('Bror', 'Geir')\n",
    "\n",
    "# Sjekker innholdet i my_family\n",
    "print(my_family)\n"
   ]
  },
  {
   "cell_type": "markdown",
   "metadata": {
    "deletable": false,
    "editable": false,
    "run_control": {
     "frozen": true
    }
   },
   "source": [
    "For å teste koden kan du kjøre kodeblokken under"
   ]
  },
  {
   "cell_type": "code",
   "execution_count": 23,
   "metadata": {},
   "outputs": [
    {
     "name": "stdout",
     "output_type": "stream",
     "text": [
      "{'bror': ['Arne', 'Geir'], 'mor': ['Anne']}\n"
     ]
    }
   ],
   "source": [
    "my_family={}\n",
    "add_family_member('bror', 'Arne')\n",
    "add_family_member('mor', 'Anne')\n",
    "add_family_member('bror', 'Geir')\n",
    "print (my_family)"
   ]
  },
  {
   "cell_type": "markdown",
   "metadata": {
    "deletable": false,
    "editable": false,
    "run_control": {
     "frozen": true
    }
   },
   "source": [
    "Hvis du har gjort alt riktig skal output fra denne bli:\n",
    "```\n",
    "{'mor': ['Anne'], 'bror': ['Arne', 'Geir']}\n",
    "```"
   ]
  },
  {
   "cell_type": "markdown",
   "metadata": {
    "deletable": false,
    "editable": false,
    "run_control": {
     "frozen": true
    }
   },
   "source": [
    "# d) (frivillig)"
   ]
  },
  {
   "cell_type": "markdown",
   "metadata": {
    "deletable": false,
    "editable": false,
    "run_control": {
     "frozen": true
    }
   },
   "source": [
    "*(Du trenger ikke gjøre denne for å få godkjent oppgaven)* ***Skriv ut den ferdige dictionarien på et fint format med kodeblokken under***"
   ]
  },
  {
   "cell_type": "code",
   "execution_count": 24,
   "metadata": {},
   "outputs": [
    {
     "name": "stdout",
     "output_type": "stream",
     "text": [
      "bror: Arne, Geir\n",
      "mor: Anne\n"
     ]
    }
   ],
   "source": [
    "# Skriver ut familiemedlemmer i et pent format\n",
    "for role, names in my_family.items():\n",
    "    # Hvis det er flere medlemmer med samme rolle, skriv dem ut i en liste\n",
    "    print(f\"{role}: {', '.join(names)}\")\n"
   ]
  },
  {
   "cell_type": "markdown",
   "metadata": {
    "deletable": false,
    "editable": false,
    "heading_collapsed": true,
    "run_control": {
     "frozen": true
    }
   },
   "source": [
    "#### Hint"
   ]
  },
  {
   "cell_type": "markdown",
   "metadata": {
    "deletable": false,
    "editable": false,
    "hidden": true,
    "run_control": {
     "frozen": true
    }
   },
   "source": [
    "Du kan bruke en for-løkke med syntaksen for key, value in my_family.items(): for å iterere gjennom dictionarien. "
   ]
  },
  {
   "cell_type": "code",
   "execution_count": null,
   "metadata": {},
   "outputs": [],
   "source": []
  }
 ],
 "metadata": {
  "kernelspec": {
   "display_name": "Python 3 (ipykernel)",
   "language": "python",
   "name": "python3"
  },
  "language_info": {
   "codemirror_mode": {
    "name": "ipython",
    "version": 3
   },
   "file_extension": ".py",
   "mimetype": "text/x-python",
   "name": "python",
   "nbconvert_exporter": "python",
   "pygments_lexer": "ipython3",
   "version": "3.11.6"
  },
  "toc": {
   "base_numbering": 1,
   "nav_menu": {},
   "number_sections": false,
   "sideBar": true,
   "skip_h1_title": false,
   "title_cell": "Table of Contents",
   "title_sidebar": "Contents",
   "toc_cell": false,
   "toc_position": {},
   "toc_section_display": true,
   "toc_window_display": false
  }
 },
 "nbformat": 4,
 "nbformat_minor": 4
}
