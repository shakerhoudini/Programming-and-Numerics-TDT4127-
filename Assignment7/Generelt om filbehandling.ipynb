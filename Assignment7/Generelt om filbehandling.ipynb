{
 "cells": [
  {
   "cell_type": "markdown",
   "metadata": {
    "deletable": false,
    "editable": false,
    "run_control": {
     "frozen": true
    }
   },
   "source": [
    "<nav class=\"navbar navbar-default\">\n",
    "  <div class=\"container-fluid\">\n",
    "    <div class=\"navbar-header\">\n",
    "      <a class=\"navbar-brand\" href=\"_Oving9.ipynb\">Øving 9</a>\n",
    "    </div>\n",
    "    <ul class=\"nav navbar-nav\">\n",
    "    <li ><a href=\"Generelt%20om%20dictionary.ipynb\">Generelt om dictionary</a></li>\n",
    "    <li ><a href=\"Innebygde%20funksjoner%20i%20dictionaries.ipynb\">Innebygde funksjoner</a></li>\n",
    "    <li ><a href=\"Generelt%20om%20sets.ipynb\">Generelt om sets</a></li>\n",
    "    <li class=\"active\"><a href=\"Generelt%20om%20filbehandling.ipynb\">Generelt om filbehandling</a></li>\n",
    "    <li ><a href=\"Osteviruset.ipynb\">Osteviruset</a></li>\n",
    "    <li ><a href=\"Bursdagsdatabasen.ipynb\">Bursdagsdatabasen</a></li>\n",
    "    <li ><a href=\"Tallak%20teller%20antall%20tall.ipynb\">Tallak teller antall tall</a></li>\n",
    "    <li ><a href=\"Opptaksgrenser.ipynb\">Opptaksgrenser</a></li>\n",
    "        <li ><a href=\"Soke%20i%20tekst.ipynb\">Søke i tekst</a></li>\n",
    "    <li ><a href=\"Tre%20paa%20rad.ipynb\">Tre på rad</a></li>\n",
    "    </ul>\n",
    "  </div>\n",
    "</nav>\n",
    "\n",
    "# Generelt om filbehandling\n",
    "\n",
    "**Læringsmål:**\n",
    "- Filbehandling\n",
    "- Betingelser\n",
    "- Løkker\n",
    "\n",
    "**Starting Out with Python:**\n",
    "- Kap. 6: Files and Exceptions\n",
    "\n",
    "I denne oppgaven skal vi skrive til en fil og lese fra en fil."
   ]
  },
  {
   "cell_type": "markdown",
   "metadata": {
    "deletable": false,
    "editable": false,
    "heading_collapsed": true,
    "run_control": {
     "frozen": true
    }
   },
   "source": [
    "## Generelt om filer\n",
    "Det kan være lurt å lese dette før du går videre"
   ]
  },
  {
   "cell_type": "markdown",
   "metadata": {
    "deletable": false,
    "editable": false,
    "hidden": true,
    "run_control": {
     "frozen": true
    }
   },
   "source": [
    "Det er ofte nyttig å kunne lagre data til en fil, eller lese data fra en fil når man skriver et program i Python. De mest brukte funksjonene er for åpning, redigering og lukking av eksterne filer. \n",
    "\n",
    "Når du åpner filen må du spesifisere hvordan du skal bruke filen. Det er derfor viktig å åpne filen på riktig måte. Måten dette gjøres på er som inn-parameter i `open()`-funksjonen, noen eksempler er:\n",
    "\n",
    "- **'r'** - for lesing av filen (default)\n",
    "- **'w'** - for skriving til filen\n",
    "- **'a'** - for å legge til data (**a**ppend) til den eksisterende filen\n",
    "\n",
    "I denne oppgaven skal vi bli bedre kjent med hvordan dette fungerer:\n",
    "\n",
    "- For å åpne en fil i Python kan vi skrive: `f = open('filename', Bruksmåte)`. Bruksmåte er enten `'r'`, `'w'` eller `'a'` avhengig av hva hvordan filen skal brukes.\n",
    "- For å lese data fra en fil kan vi bruke: `innhold = f.read()`\n",
    "- For å legge til data til en fil kan vi skrive: `f.write(data)`\n",
    "\n",
    "Filer lukkes på følgende måte: `f.close()`"
   ]
  },
  {
   "cell_type": "markdown",
   "metadata": {
    "deletable": false,
    "editable": false,
    "heading_collapsed": true,
    "hidden": true,
    "run_control": {
     "frozen": true
    }
   },
   "source": [
    "### Lesing av fil"
   ]
  },
  {
   "cell_type": "markdown",
   "metadata": {
    "deletable": false,
    "editable": false,
    "hidden": true,
    "run_control": {
     "frozen": true
    }
   },
   "source": [
    "Eksempelet under viser lesing av en fil. **Kjør koden under og test det ut da vel!**"
   ]
  },
  {
   "cell_type": "code",
   "execution_count": 1,
   "metadata": {
    "hidden": true
   },
   "outputs": [
    {
     "name": "stdout",
     "output_type": "stream",
     "text": [
      "Dette er en eksempelfil.\n",
      "\n",
      "Her kan man skrive hva man vil.\n",
      "\n",
      "Men helst ikke for mange hatefulle ytringer.\n"
     ]
    }
   ],
   "source": [
    "# LESING AV FIL\n",
    "f = open('example_file1.txt','r') #r spesifiserer at man skal lese fra en fil\n",
    "innhold = f.read()\n",
    "print(innhold)\n",
    "f.close()"
   ]
  },
  {
   "cell_type": "markdown",
   "metadata": {
    "deletable": false,
    "editable": false,
    "hidden": true,
    "run_control": {
     "frozen": true
    }
   },
   "source": [
    "Når man leser en fil slik som over, må man lagre innholdet i en variabel (her bruker vi `innhold`). **Husk alltid å lukke filen!**\n",
    "\n",
    "Den filen som ble lest fra finner dere her: [example_file1.txt](../../../../edit/nbgitpuller_test/Ovinger/Oving9/example_file1.txt). Prøv å endre på filen, lagre den med `file -> save` i toppmenyen for så å kjøre kodeblokken over på nytt. Kodeblokken burde da skrive ut det nye innholdet i filen!"
   ]
  },
  {
   "cell_type": "markdown",
   "metadata": {
    "deletable": false,
    "editable": false,
    "heading_collapsed": true,
    "hidden": true,
    "run_control": {
     "frozen": true
    }
   },
   "source": [
    "### Skriving av fil"
   ]
  },
  {
   "cell_type": "markdown",
   "metadata": {
    "deletable": false,
    "editable": false,
    "hidden": true,
    "run_control": {
     "frozen": true
    }
   },
   "source": [
    "For å skrive til en fil kan man gjøre slik som under. **Kjør koden under og test!**"
   ]
  },
  {
   "cell_type": "code",
   "execution_count": 2,
   "metadata": {
    "hidden": true
   },
   "outputs": [],
   "source": [
    "f = open('example_file1.txt','w')  #w spesifiserer at filen skal skrives til\n",
    "f.write('En hatefull ytring')\n",
    "f.close()"
   ]
  },
  {
   "cell_type": "markdown",
   "metadata": {
    "deletable": false,
    "editable": false,
    "hidden": true,
    "run_control": {
     "frozen": true
    }
   },
   "source": [
    "Etter at du har kjørt koden over vil du kunne se at innholdet i [example_file1.txt](../../../../edit/nbgitpuller_test/Ovinger/Oving9/example_file1.txt) har endret seg. Hvis du vil kan du bytte ut `'w'` over med `'a'` og se hva som da skjer."
   ]
  },
  {
   "cell_type": "markdown",
   "metadata": {
    "deletable": false,
    "editable": false,
    "run_control": {
     "frozen": true
    }
   },
   "source": [
    "## a)"
   ]
  },
  {
   "cell_type": "markdown",
   "metadata": {
    "deletable": false,
    "editable": false,
    "run_control": {
     "frozen": true
    }
   },
   "source": [
    "Lag en funksjon `write_to_file(data)` som tar inn strengen `data` og legger denne inn i en fil **my_file.txt**\n",
    "\n",
    "***Skriv din kode i kodeblokken under***"
   ]
  },
  {
   "cell_type": "code",
   "execution_count": 3,
   "metadata": {},
   "outputs": [],
   "source": [
    "def write_to_file(data):\n",
    "    f = open('my_file.txt','w')  #w spesifiserer at filen skal skrives til\n",
    "    f.write(data)\n",
    "    f.close()\n",
    "\n",
    "\n",
    "data = \"\"\"Skurwysyński blok służył jako tło, eeny, miny, moe\n",
    "    Kto nie skakał ten z policji, albo skoczył w bok\n",
    "    Skurwysyński krąg rozdziawionych mord, eeny, miny, moe\n",
    "    Easy money z definicji lubi każdy ziom\"\"\"\n",
    "\n",
    "write_to_file(data)"
   ]
  },
  {
   "cell_type": "markdown",
   "metadata": {
    "deletable": false,
    "editable": false,
    "run_control": {
     "frozen": true
    }
   },
   "source": [
    "Hvis du lurer på om du gjorde riktig kan du kalle på funksjonen og sjekke innholdet i filen her:\n",
    "[my_file.txt](../../../../edit/nbgitpuller_test/Ovinger/Oving9/my_file.txt)"
   ]
  },
  {
   "cell_type": "markdown",
   "metadata": {
    "deletable": false,
    "editable": false,
    "heading_collapsed": true,
    "run_control": {
     "frozen": true
    }
   },
   "source": [
    "#### Hint"
   ]
  },
  {
   "cell_type": "markdown",
   "metadata": {
    "deletable": false,
    "editable": false,
    "hidden": true,
    "run_control": {
     "frozen": true
    }
   },
   "source": [
    "Her skal du skrive til fil og må derfor benytte deg av\n",
    "\n",
    "```python\n",
    "f = open('my_file.txt', 'w')\n",
    "```"
   ]
  },
  {
   "cell_type": "markdown",
   "metadata": {
    "deletable": false,
    "editable": false,
    "run_control": {
     "frozen": true
    }
   },
   "source": [
    "## b)"
   ]
  },
  {
   "cell_type": "markdown",
   "metadata": {
    "deletable": false,
    "editable": false,
    "run_control": {
     "frozen": true
    }
   },
   "source": [
    "Lag en funksjon `read_from_file(filename)` som tar inn strengen `filename` med filnavnet og skriver ut innholdet.\n",
    "\n",
    "***Skriv koden i kodeblokken under***"
   ]
  },
  {
   "cell_type": "code",
   "execution_count": 7,
   "metadata": {},
   "outputs": [
    {
     "data": {
      "text/plain": [
       "'Skurwysyński blok służył jako tło, eeny, miny, moe\\n    Kto nie skakał ten z policji, albo skoczył w bok\\n    Skurwysyński krąg rozdziawionych mord, eeny, miny, moe\\n    Easy money z definicji lubi każdy ziom'"
      ]
     },
     "execution_count": 7,
     "metadata": {},
     "output_type": "execute_result"
    }
   ],
   "source": [
    "def read_from_file(filename): \n",
    "    f = open(filename,'r')  #w spesifiserer at filen skal leses fra \n",
    "    innhold = f.read()\n",
    "    f.close()\n",
    "    return innhold \n",
    "\n",
    "filename = \"my_file.txt\"\n",
    "\n",
    "read_from_file(filename)"
   ]
  },
  {
   "cell_type": "markdown",
   "metadata": {
    "deletable": false,
    "editable": false,
    "run_control": {
     "frozen": true
    }
   },
   "source": [
    "Du kan teste ut funksjonen ved å kalle den med `'my_file.txt'` som argument."
   ]
  },
  {
   "cell_type": "markdown",
   "metadata": {
    "deletable": false,
    "editable": false,
    "heading_collapsed": true,
    "run_control": {
     "frozen": true
    }
   },
   "source": [
    "#### Hint"
   ]
  },
  {
   "cell_type": "markdown",
   "metadata": {
    "deletable": false,
    "editable": false,
    "hidden": true,
    "run_control": {
     "frozen": true
    }
   },
   "source": [
    "Her skal du lese fra fil og må derfor benytte deg av\n",
    "```python\n",
    "f = open('my_file.txt', 'r')\n",
    "```"
   ]
  },
  {
   "cell_type": "markdown",
   "metadata": {
    "deletable": false,
    "editable": false,
    "run_control": {
     "frozen": true
    }
   },
   "source": [
    "# c)"
   ]
  },
  {
   "cell_type": "markdown",
   "metadata": {
    "deletable": false,
    "editable": false,
    "run_control": {
     "frozen": true
    }
   },
   "source": [
    "Lag en funksjon `main()` hvor bruker får valget mellom å skrive til fil eller lese fra fil. Funksjonen skal kjøre så lenge brukeren ikke svarer `'done'`. (Se eksempelkjøring)\n",
    "\n",
    "- Hvis brukeren velger **write** skal du bruke **a)** til å skrive data til **my_file.txt**\n",
    "- Hvis brukeren velger **read** skal du skrive ut innholdet (dersom det er noe) i **my_file.txt** vha. **b)**\n",
    "\n",
    "**Eksempel på kjøring:**\n",
    "```\n",
    "Do you want to read or write? write\n",
    "What do you want to write to file? hei allan\n",
    "hei allan was written to file.\n",
    "Do you want to read or write? read\n",
    "hei allan\n",
    "Do you want to read or write? done\n",
    "You are done.\n",
    "```\n",
    "\n",
    "***Skriv koden din i kodeblokken under***"
   ]
  },
  {
   "cell_type": "code",
   "execution_count": 18,
   "metadata": {},
   "outputs": [
    {
     "name": "stdin",
     "output_type": "stream",
     "text": [
      "Vil du skrive eller lese? (Skriv 'done' for å avslutte):  w\n",
      "Hva vil du skrive til filen?  penis\n"
     ]
    },
    {
     "name": "stdout",
     "output_type": "stream",
     "text": [
      "Data skrevet til fil.\n"
     ]
    },
    {
     "name": "stdin",
     "output_type": "stream",
     "text": [
      "Vil du skrive eller lese? (Skriv 'done' for å avslutte):  r\n"
     ]
    },
    {
     "name": "stdout",
     "output_type": "stream",
     "text": [
      "Innhold i filen:\n",
      "penis\n"
     ]
    },
    {
     "name": "stdin",
     "output_type": "stream",
     "text": [
      "Vil du skrive eller lese? (Skriv 'done' for å avslutte):  done\n"
     ]
    },
    {
     "name": "stdout",
     "output_type": "stream",
     "text": [
      "Avslutter programmet.\n"
     ]
    }
   ],
   "source": [
    "def write_to_file(data):\n",
    "    f = open('my_file.txt', 'w')  # 'w' spesifiserer at filen skal skrives til\n",
    "    f.write(data)\n",
    "    f.close()\n",
    "\n",
    "def read_from_file(filename): \n",
    "    f = open(filename, 'r')  # 'r' spesifiserer at filen skal leses fra\n",
    "    innhold = f.read()\n",
    "    \n",
    "    f.close()\n",
    "    return innhold\n",
    "\n",
    "def main():\n",
    "    filename = \"my_file.txt\"  # Definerer filnavnet\n",
    "    while True:\n",
    "        x = input(\"Vil du skrive eller lese? (Skriv 'done' for å avslutte): \")\n",
    "        if x == \"w\":\n",
    "            data = input(\"Hva vil du skrive til filen? \")\n",
    "            write_to_file(data)\n",
    "            print(\"Data skrevet til fil.\")\n",
    "            \n",
    "        elif x == \"r\":\n",
    "            innhold = read_from_file(filename)\n",
    "            print(\"Innhold i filen:\")\n",
    "            print(innhold)\n",
    "            \n",
    "        elif x == \"done\":\n",
    "            print(\"Avslutter programmet.\")\n",
    "            break  # Bryter ut av løkken for å avslutte programmet\n",
    "            \n",
    "        else:\n",
    "            print(\"Ugyldig kommando. Skriv 'done' for å avslutte.\")\n",
    "\n",
    "# Kaller main-funksjonen\n",
    "main()\n",
    "\n"
   ]
  },
  {
   "cell_type": "markdown",
   "metadata": {
    "deletable": false,
    "editable": false,
    "run_control": {
     "frozen": true
    }
   },
   "source": [
    "Du kan når som helst sjekke innholdet i [my_file.txt](../../../../edit/nbgitpuller_test/Ovinger/Oving9/my_file.txt)"
   ]
  }
 ],
 "metadata": {
  "kernelspec": {
   "display_name": "Python 3 (ipykernel)",
   "language": "python",
   "name": "python3"
  },
  "language_info": {
   "codemirror_mode": {
    "name": "ipython",
    "version": 3
   },
   "file_extension": ".py",
   "mimetype": "text/x-python",
   "name": "python",
   "nbconvert_exporter": "python",
   "pygments_lexer": "ipython3",
   "version": "3.11.6"
  },
  "toc": {
   "base_numbering": 1,
   "nav_menu": {},
   "number_sections": false,
   "sideBar": true,
   "skip_h1_title": false,
   "title_cell": "Table of Contents",
   "title_sidebar": "Contents",
   "toc_cell": false,
   "toc_position": {},
   "toc_section_display": true,
   "toc_window_display": false
  }
 },
 "nbformat": 4,
 "nbformat_minor": 4
}
