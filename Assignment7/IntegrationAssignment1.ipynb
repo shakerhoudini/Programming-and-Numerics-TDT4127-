{
 "cells": [
  {
   "cell_type": "markdown",
   "metadata": {
    "deletable": false,
    "editable": false
   },
   "source": [
    "# Numerical integration \n",
    "\n",
    "# 1) \n",
    "\n",
    "In this exercise we will approximate integrals in 1D using numerical methods.\n",
    "\n",
    "Given a function $f(x)$ on an inteval $[a,b]$, one can approximate its integral $\\int_a^bf(x)\\mathrm{d}x$ by using, for example, the rectangle rule/midpoint rule:\n",
    "$$I=\\int_a^bf(x)\\mathrm{d}x \\approx (b-a) f\\left(\\frac{a+b}{2}\\right),$$\n",
    "or the trapezoidal rule:\n",
    "$$I=\\int_a^bf(x)\\mathrm{d}x \\approx(b-a)\\left(\\frac{f(a)+f(b)}{2}\\right).$$\n",
    "\n"
   ]
  },
  {
   "cell_type": "markdown",
   "metadata": {
    "deletable": false,
    "editable": false
   },
   "source": [
    "## a)\n",
    "\n",
    "Write function that accepts another function $f(x)$ and two interval boundaries $a$ and $b$ and returns an approximation to the integral $I$ using:\n",
    "\n",
    "***i)*** the rectangle rule; and,\n",
    "\n",
    "***ii)*** the trapezoidal rule.\n",
    "\n",
    "**Hint:** Your solution should look something like this:\n",
    "\n",
    "```python\n",
    "def integrate_midpoint(f,a,b):\n",
    "    ...\n",
    "    return I \n",
    "```\n",
    "\n",
    "```python\n",
    "def integrate_trapezoid(f,a,b):\n",
    "    ...\n",
    "    return I\n",
    "```\n",
    "***Write your code in the block below***"
   ]
  },
  {
   "cell_type": "code",
   "execution_count": 3,
   "metadata": {},
   "outputs": [],
   "source": [
    "def integrate_midpoint(f,a,b):\n",
    "    I = (b - a)*f((a + b)/2)\n",
    "    return I \n",
    "\n",
    "\n",
    "def integrate_trapezoid(f,a,b):\n",
    "    I = (b - a)*(f(a) + f(b))/2\n",
    "    return I"
   ]
  },
  {
   "cell_type": "markdown",
   "metadata": {
    "deletable": false,
    "editable": false
   },
   "source": [
    "## b)\n",
    "To test our functions `integrate_midpoint` and `integrate_trapezoid`, we can use the following simple function\n",
    "$$f(x)=x^n,$$ \n",
    "which has the indefinite integral\n",
    "$$F(x) = \\int x^n \\mathrm{d}x = \\frac{x^{n+1}}{n+1}$$\n",
    "and the definite integral on the interval $[a,b]$ given by\n",
    "$$I_{exact} = \\int^b_a x^n \\mathrm{d}x =  F(b)-F(a) $$\n",
    "\n"
   ]
  },
  {
   "cell_type": "markdown",
   "metadata": {
    "deletable": false,
    "editable": false
   },
   "source": [
    "### i) \n",
    "For $n=0,1,2,3,4$ and on the interval $[0,1]$, compute the error of the numerical approximations for the two functions you created in Q1a). (***Hint:*** The error is given by the difference from the numerical solution and the exact solution $\\mathrm{error} = I_{numerical} - I_{exact}$,where $I_{numerical}$ is calculated by the trapezoidal rule or midpoint rule above. Also use a `for` loop)\n",
    "\n",
    "***Write your code in the block below***"
   ]
  },
  {
   "cell_type": "code",
   "execution_count": 4,
   "metadata": {},
   "outputs": [
    {
     "name": "stdout",
     "output_type": "stream",
     "text": [
      "n = 0\n",
      "Midtpunkt-regelen feil: 0.0\n",
      "Trapesregelen feil: 0.0\n",
      "------------------------------\n",
      "n = 1\n",
      "Midtpunkt-regelen feil: 0.0\n",
      "Trapesregelen feil: 0.0\n",
      "------------------------------\n",
      "n = 2\n",
      "Midtpunkt-regelen feil: -0.08333333333333331\n",
      "Trapesregelen feil: 0.16666666666666669\n",
      "------------------------------\n",
      "n = 3\n",
      "Midtpunkt-regelen feil: -0.125\n",
      "Trapesregelen feil: 0.25\n",
      "------------------------------\n",
      "n = 4\n",
      "Midtpunkt-regelen feil: -0.1375\n",
      "Trapesregelen feil: 0.3\n",
      "------------------------------\n"
     ]
    }
   ],
   "source": [
    "# Funksjon for å beregne den eksakte verdien av integralet\n",
    "def exact_integral(n, a, b):\n",
    "    return (b ** (n + 1)) / (n + 1) - (a ** (n + 1)) / (n + 1)\n",
    "\n",
    "# Definerer funksjonen f(x) = x^n\n",
    "def f(x, n):\n",
    "    return x ** n\n",
    "\n",
    "# Initialiserer grensene for integralet\n",
    "a = 0\n",
    "b = 1\n",
    "\n",
    "# Løkke gjennom verdier av n fra 0 til 4\n",
    "for n in range(5):\n",
    "    # Beregn eksakt verdi av integralet\n",
    "    I_exact = exact_integral(n, a, b)\n",
    "\n",
    "    # Beregn numeriske verdier ved hjelp av rektangel- og trapesreglene\n",
    "    I_midpoint = integrate_midpoint(lambda x: f(x, n), a, b)\n",
    "    I_trapezoid = integrate_trapezoid(lambda x: f(x, n), a, b)\n",
    "\n",
    "    # Beregn feil for hver metode\n",
    "    error_midpoint = I_midpoint - I_exact\n",
    "    error_trapezoid = I_trapezoid - I_exact\n",
    "\n",
    "    # Skriv ut resultatene\n",
    "    print(f\"n = {n}\")\n",
    "    print(f\"Midtpunkt-regelen feil: {error_midpoint}\")\n",
    "    print(f\"Trapesregelen feil: {error_trapezoid}\")\n",
    "    print(\"-\" * 30)\n"
   ]
  },
  {
   "cell_type": "markdown",
   "metadata": {
    "deletable": false,
    "editable": false,
    "run_control": {
     "frozen": true
    }
   },
   "source": [
    "### ii) \n",
    "What do you notice about the errors for $n=0$ and $1$? Can you explain your observation?"
   ]
  },
  {
   "cell_type": "markdown",
   "metadata": {},
   "source": [
    "For 𝑛=0 and 𝑛=1: the errors for both the midpoint and trapezoidal rules are exactly zero. In the first case we have a constant function, in the other we have a linear fdunction. "
   ]
  },
  {
   "cell_type": "markdown",
   "metadata": {
    "deletable": false,
    "editable": false
   },
   "source": [
    "# 2)\n",
    "\n",
    "Now we can subdivide the interval $[a,b]$ into $n$ sub-intervals of length $\\Delta x = \\frac{b-a}{n}$ and use a composite integration rule. For example, if we let $x_k = a + k \\Delta x$ then the composite trapezoidal rule is calculated by summing smaller trapezoids with width $\\Delta x$. This is given by the formula\n",
    "$$\\int_a^bf(x)\\mathrm{d}x \\approx \\Delta x \\sum_{k=0}^{n}\\left(\\frac{f(x_k)+f(x_{k+1})}{2}\\right) .$$\n",
    "\n"
   ]
  },
  {
   "cell_type": "markdown",
   "metadata": {},
   "source": [
    "## a) \n",
    "Write a function that accept $f(x)$, two interval boundaries $a$ and $b$, and an integer $n$ and computes an approximation to $I=\\int^b_af(x)\\mathrm{d}x$ using the composite trapezoidal rule with $n$ sub-intervals. The function should look like this\n",
    "```python\n",
    "def integrate_composite_trapezoidal(f,a,b,n):\n",
    "    ...\n",
    "    return I\n",
    "```\n",
    "***Hint:*** you can use your function `integrate_composite_trapezoidal` from before! Also recall that sums are best implemented using a `for` loop. \n",
    "\n",
    "***Write your code in the block below***"
   ]
  },
  {
   "cell_type": "code",
   "execution_count": 6,
   "metadata": {},
   "outputs": [],
   "source": [
    "def integrate_composite_trapezoidal(f, a, b, n):\n",
    "    # Beregn lengden av hvert delintervall\n",
    "    delta_x = (b - a) / n\n",
    "    \n",
    "    # Start på summen med bidragene fra endepunktene a og b\n",
    "    integral_sum = (f(a) + f(b)) / 2\n",
    "\n",
    "    # Løkke over indre punkter\n",
    "    for k in range(1, n):\n",
    "        x_k = a + k * delta_x\n",
    "        integral_sum += f(x_k)\n",
    "\n",
    "    # Multipliser summen med delta_x for å få det endelige integralet\n",
    "    I = delta_x * integral_sum\n",
    "    return I\n"
   ]
  },
  {
   "cell_type": "markdown",
   "metadata": {
    "deletable": false,
    "editable": false
   },
   "source": [
    "## b)\n",
    "The trapezoidal rule is approximating the function with a straight line (a degree 1 polynomial) and then finding the area underneath the line (which is equivalent to finding the area of a trapezoid). We can make a more accurate numerical method by approximating the function with a parabola (a degree 2 polynomial) and compute the area underneath the parabola. This gives us the Simpson rule, or composite Simpson rule if we divide the interval up, which is what we will do. The *composite* Simpson rule is given by the following formula\n",
    "$$\\qquad\\qquad\\quad\\qquad\\qquad\\int_a^bf(x)\\mathrm{d}x \\approx \\frac{\\Delta x}{3} \\left(f(x_0) + 4f(x_1)+ 2f(x_2)+ 4f(x_3)+ 2f(x_4)+...+ 4f(x_{n-1}) +f(x_n)\\right)\\\\\n",
    "\\approx \\frac{\\Delta x}{3} \\left(f(x_0) + \\sum_{k=1}^{n-1} c_k f(x_k) +f(x_n)\\right)$$\n",
    "where $c_k = 2$ if $k$ is even and $c_k = 4$ if $k$ is odd. Now write a function, similar to the previous question, that accept $f(x)$, two interval boundaries $a$ and $b$, and an integer $n$ and computes an approximation to $I=\\int^b_af(x)\\mathrm{d}x$ using the composite *Simpson* rule with $n$ sub-intervals,\n",
    "```python\n",
    "def integrate_composite_simpson(f,a,b,n):\n",
    "    ...\n",
    "    return I\n",
    "```\n",
    "\n",
    "***Write your code in the block below***"
   ]
  },
  {
   "cell_type": "code",
   "execution_count": 7,
   "metadata": {},
   "outputs": [],
   "source": [
    "def integrate_composite_simpson(f, a, b, n):\n",
    "    # Sørg for at n er jevn, ettersom Simpson's regel krever det\n",
    "    if n % 2 != 0:\n",
    "        raise ValueError(\"Antall sub-intervaller n må være et partall for Simpson's regel.\")\n",
    "    \n",
    "    # Beregn lengden av hvert delintervall\n",
    "    delta_x = (b - a) / n\n",
    "    \n",
    "    # Start på summen med de ytre punktene f(a) og f(b)\n",
    "    integral_sum = f(a) + f(b)\n",
    "    \n",
    "    # Løkke over indre punkter\n",
    "    for k in range(1, n):\n",
    "        x_k = a + k * delta_x\n",
    "        # Legg til med koeffisienten 4 hvis k er oddetall, 2 hvis k er partall\n",
    "        coefficient = 4 if k % 2 != 0 else 2\n",
    "        integral_sum += coefficient * f(x_k)\n",
    "    \n",
    "    # Multipliser summen med delta_x/3 for å få det endelige integralet\n",
    "    I = (delta_x / 3) * integral_sum\n",
    "    return I\n"
   ]
  },
  {
   "cell_type": "markdown",
   "metadata": {
    "deletable": false,
    "editable": false
   },
   "source": [
    "## c)\n",
    "### i)\n",
    "Using the simple function $f(x) = 5x^4 - 3x^2 + \\exp(x)$, which has the indefinite integral $F(x) = \\int f(x)\\mathrm{d}x = x^5 - x^3 + \\exp(x)$, calculate the error of integral using the composite trapezoidal and Simpson functions that you created above. Try the functions on the interval $[0,1]$ with $n=10$ subintervals. The error for this integral on this interval for the composite trapezoidal rule is about `0.0130816` and the Simpson rule is about `6.762013-05`\n",
    "\n",
    "\n",
    "***Write your code in the block below***"
   ]
  },
  {
   "cell_type": "code",
   "execution_count": 8,
   "metadata": {},
   "outputs": [
    {
     "name": "stdout",
     "output_type": "stream",
     "text": [
      "Eksakt verdi av integralet: 1.718281828459045\n",
      "Trapesregel tilnærming: 1.7313634913893143\n",
      "Simpson's regel tilnærming: 1.7183494485914899\n",
      "Feil i trapesregel: 0.013081662930269244\n",
      "Feil i Simpson's regel: 6.762013244476783e-05\n"
     ]
    }
   ],
   "source": [
    "import math\n",
    "\n",
    "# Definer funksjonen f(x)\n",
    "def f(x):\n",
    "    return 5 * x**4 - 3 * x**2 + math.exp(x)\n",
    "\n",
    "# Definer den eksakte integrerte funksjonen F(x)\n",
    "def F(x):\n",
    "    return x**5 - x**3 + math.exp(x)\n",
    "\n",
    "# Beregn eksakt verdi av integralet på intervallet [0,1]\n",
    "a, b = 0, 1\n",
    "I_exact = F(b) - F(a)\n",
    "\n",
    "# Beregn integralet med kompositt trapesregel og Simpson's regel\n",
    "n = 10\n",
    "I_trapezoid = integrate_composite_trapezoidal(f, a, b, n)\n",
    "I_simpson = integrate_composite_simpson(f, a, b, n)\n",
    "\n",
    "# Beregn feilene for hver metode\n",
    "error_trapezoid = I_trapezoid - I_exact\n",
    "error_simpson = I_simpson - I_exact\n",
    "\n",
    "# Skriv ut resultatene\n",
    "print(\"Eksakt verdi av integralet:\", I_exact)\n",
    "print(\"Trapesregel tilnærming:\", I_trapezoid)\n",
    "print(\"Simpson's regel tilnærming:\", I_simpson)\n",
    "print(\"Feil i trapesregel:\", error_trapezoid)\n",
    "print(\"Feil i Simpson's regel:\", error_simpson)\n",
    "\n",
    "\n"
   ]
  },
  {
   "cell_type": "markdown",
   "metadata": {
    "deletable": false,
    "editable": false,
    "run_control": {
     "frozen": true
    }
   },
   "source": [
    "### ii) \n",
    "What do you expect is the error of the Simpson rule when used to integrate the function $f(x) = -4 x^2 + 2x +17$ ? "
   ]
  },
  {
   "cell_type": "markdown",
   "metadata": {},
   "source": [
    "Forventet feil i Simpson's regel for funksjonen \\( f(x) = -4x^2 + 2x + 17 \\) er null, siden Simpson's regel er nøyaktig for polynomer av grad 2 eller lavere.\r\n",
    "\n",
    "\n",
    "\n",
    "\n",
    "\n",
    "\n"
   ]
  },
  {
   "cell_type": "markdown",
   "metadata": {},
   "source": [
    "## d) Optional bonus question!!\n",
    "\n",
    "### i) \n",
    "Now we will look at how the error of the composite methods changes as you increase the number of sub-intervals $n$ (which is the same as decreasing $\\Delta x$). Compute the error of the composite trapezoidal and Simpsons rule when integrating the function from Q2ci) on the interval $[0,1]$ then make a log-log plot of the error as a function of the step size $\\Delta x = \\frac{b-a}{2^i}$ for $i = 1,2,...,10$. In other words make a log-log plot with error on the vertical axis and $\\Delta x$ on the horizontal axis for the different values of $i$. Also plot the points $(\\Delta x, \\Delta x^2)$ and $(\\Delta x, \\Delta x^4)$ for $i = 1,2,...,10$.\n",
    "\n",
    "***Hint:*** The following code is used to make a log-log plot of the points $(\\Delta x, \\Delta x^2)$ and $(\\Delta x, \\Delta x^4)$ for $i = 1,2,...,10$. You therefore only need to add error plots on top. \n",
    "```python\n",
    "import matplotlib.pyplot as plt\n",
    "a = 0\n",
    "b = 1\n",
    "\n",
    "# add functions for f and F here\n",
    "\n",
    "for i in range(1,10):\n",
    "    n = 2**i\n",
    "    dx = (b-a)/n\n",
    "    # compute the numerical integrals and errors here then add the points (dx,error) to the following plot\n",
    "    plt.loglog(dx,dx**2,'kx',dx,dx**4,'kx')\n",
    "```\n",
    "Recall that for a log-log plot, you can only plot positive numbers, therefore take the absolute value of the error when you plot it."
   ]
  },
  {
   "cell_type": "code",
   "execution_count": null,
   "metadata": {},
   "outputs": [],
   "source": []
  },
  {
   "cell_type": "markdown",
   "metadata": {
    "deletable": false,
    "editable": false,
    "run_control": {
     "frozen": true
    }
   },
   "source": [
    "### ii) \n",
    "How does the error of the 2 methods vary in terms of $\\Delta x$?"
   ]
  },
  {
   "cell_type": "markdown",
   "metadata": {},
   "source": [
    "<***Double click to write answer here***>"
   ]
  }
 ],
 "metadata": {
  "kernelspec": {
   "display_name": "Python 3 (ipykernel)",
   "language": "python",
   "name": "python3"
  },
  "language_info": {
   "codemirror_mode": {
    "name": "ipython",
    "version": 3
   },
   "file_extension": ".py",
   "mimetype": "text/x-python",
   "name": "python",
   "nbconvert_exporter": "python",
   "pygments_lexer": "ipython3",
   "version": "3.11.6"
  }
 },
 "nbformat": 4,
 "nbformat_minor": 4
}
