{
 "cells": [
  {
   "cell_type": "markdown",
   "metadata": {
    "deletable": false,
    "editable": false,
    "run_control": {
     "frozen": true
    }
   },
   "source": [
    "<nav class=\"navbar navbar-default\">\n",
    "  <div class=\"container-fluid\">\n",
    "    <div class=\"navbar-header\">\n",
    "      <a class=\"navbar-brand\" href=\"_Oving6.ipynb\">Øving 6</a>\n",
    "    </div>\n",
    "    <ul class=\"nav navbar-nav\">\n",
    "      <li ><a href=\"Generelt%20om%20lister.ipynb\">Generelt om lister</a></li>\n",
    "    <li ><a href=\"Lett%20og%20blandet.ipynb\">Lett og blandet</a></li>\n",
    "    <li class=\"active\"><a href=\"Kodeforstaelse.ipynb\">Kodeforståelse</a></li>\n",
    "    <li><a href=\"Vektorer.ipynb\">Vektorer</a></li>\n",
    "    <li ><a href=\"Lister%20og%20lokker.ipynb\">Lister og løkker</a></li>\n",
    "    <li ><a href=\"Teoridelen%20paa%20eksamen.ipynb\">Teoridelen på eksamen</a></li>\n",
    "    <li><a href=\"Gangetabell%20og%20lister.ipynb\">Gangetabell og lister</a></li>\n",
    "    <li ><a href=\"Lotto.ipynb\">Lotto</a></li>\n",
    "    <li ><a href=\"Tannfeen.ipynb\">Tannfeen</a></li>\n",
    "        <li><a href=\"Chattebot.ipynb\">Chattebot</a></li>\n",
    "    <li ><a href=\"Matriseaddisjon.ipynb\">Matriseaddisjon</a></li>\n",
    "    <li ><a href=\"Intro%20til%20numpy-arrays.ipynb\">Intro til numpy-arrays</a></li>\n",
    "    </ul>\n",
    "  </div>\n",
    "</nav>\n",
    "\n",
    "# Kodeforståelse\n",
    "\n",
    "**Læringsmål:**\n",
    "\n",
    "* Kodeforståelse\n",
    "* Innebygde funksjoner\n",
    "* lister\n",
    "\n",
    "**Starting Out with Python:**\n",
    "\n",
    "* Kap. 7: Lists and Tuples"
   ]
  },
  {
   "cell_type": "markdown",
   "metadata": {
    "deletable": false,
    "editable": false,
    "run_control": {
     "frozen": true
    }
   },
   "source": [
    "**a)** Hva returneres i koden under når A= [1,2,3,5,7,9]?\n",
    "\n",
    "Forklar med én setning hva funksjonen gjør."
   ]
  },
  {
   "cell_type": "markdown",
   "metadata": {
    "deletable": false,
    "editable": false,
    "run_control": {
     "frozen": true
    }
   },
   "source": [
    "```python\n",
    "def myst(A):\n",
    "    L=len(A)-1\n",
    "    for i in range(len(A)//2):\n",
    "        t=A[i]\n",
    "        A[i] = A[L-i]\n",
    "        A[L-i]=t\n",
    "    return A\n",
    "```\n",
    "\n",
    "Dobbeltklikk på teksten under og skriv svaret ditt i boksen som kommer opp."
   ]
  },
  {
   "cell_type": "code",
   "execution_count": 2,
   "metadata": {},
   "outputs": [
    {
     "name": "stdout",
     "output_type": "stream",
     "text": [
      "[9, 7, 5, 3, 2, 1]\n"
     ]
    }
   ],
   "source": [
    "A= [1,2,3,5,7,9]\n",
    "\n",
    "def myst(A):\n",
    "    L=len(A)-1\n",
    "    for i in range(len(A)//2):\n",
    "        t=A[i]\n",
    "        A[i] = A[L-i]\n",
    "        A[L-i]=t\n",
    "    return A\n",
    "\n",
    "print(myst(A))"
   ]
  },
  {
   "cell_type": "markdown",
   "metadata": {},
   "source": [
    "Svar: Koden reverserer en gitt liste A. "
   ]
  },
  {
   "cell_type": "markdown",
   "metadata": {
    "deletable": false,
    "editable": false,
    "run_control": {
     "frozen": true
    }
   },
   "source": [
    "**b)** Forklar med én setning hva funksjonen myst3([1,2,3,4,5,6,7,8,9,10]) med kode som vist under gjør."
   ]
  },
  {
   "cell_type": "markdown",
   "metadata": {
    "deletable": false,
    "editable": false,
    "run_control": {
     "frozen": true
    }
   },
   "source": [
    "```python\n",
    "import random\n",
    "def myst3(a):\n",
    "    b =[0]*len(a)\n",
    "    for c in range(len(a)):\n",
    "        d = random.randint(0,len(a)-1)\n",
    "        b[c] = a[d]\n",
    "        del a[d]    #del fjerner et bestemt element i listen, her fjerner det a[d].\n",
    "    return b\n",
    "```\n",
    "Dobbeltklikk på teksten under og skriv svaret ditt i boksen som kommer opp."
   ]
  },
  {
   "cell_type": "code",
   "execution_count": 1,
   "metadata": {},
   "outputs": [
    {
     "data": {
      "text/plain": [
       "[4, 5, 9, 7, 6, 3, 10, 1, 8, 2]"
      ]
     },
     "execution_count": 1,
     "metadata": {},
     "output_type": "execute_result"
    }
   ],
   "source": [
    "import random\n",
    "def myst3(a):\n",
    "    b =[0]*len(a)\n",
    "    for c in range(len(a)):\n",
    "        d = random.randint(0,len(a)-1)\n",
    "        b[c] = a[d]\n",
    "        del a[d]    #del fjerner et bestemt element i listen, her fjerner det a[d].\n",
    "    return b\n",
    "\n",
    "myst3([1,2,3,4,5,6,7,8,9,10])"
   ]
  },
  {
   "cell_type": "markdown",
   "metadata": {},
   "source": [
    "Svar: Funksjonen returnerer en ny liste som er en tilfeldig permutasjon av den opprinnelige listen. Det trekkes tilfeldige elementer fra den opprinnelige listen som fjernes underveis. "
   ]
  },
  {
   "cell_type": "markdown",
   "metadata": {
    "deletable": false,
    "editable": false,
    "run_control": {
     "frozen": true
    }
   },
   "source": [
    "**c)** Hva kommer koden til å printe?"
   ]
  },
  {
   "cell_type": "markdown",
   "metadata": {
    "deletable": false,
    "editable": false,
    "run_control": {
     "frozen": true
    }
   },
   "source": [
    "```python\n",
    "liste = [4, 9, 6, 3, 8, 7, 5]\n",
    "print(liste[-2:6])\n",
    "```\n",
    "\n",
    "Dobbeltklikk på teksten under og skriv svaret ditt i boksen som kommer opp."
   ]
  },
  {
   "cell_type": "code",
   "execution_count": 6,
   "metadata": {},
   "outputs": [
    {
     "name": "stdout",
     "output_type": "stream",
     "text": [
      "[7]\n"
     ]
    }
   ],
   "source": [
    "liste = [4, 9, 6, 3, 8, 7, 5]\n",
    "print(liste[-2:6])"
   ]
  },
  {
   "cell_type": "markdown",
   "metadata": {},
   "source": [
    "Svar: 7. Vi bruker slicing, starter fra en indeks og fortsetter frem til men ikke inkluderer grensen. "
   ]
  },
  {
   "cell_type": "markdown",
   "metadata": {
    "deletable": false,
    "editable": false,
    "run_control": {
     "frozen": true
    }
   },
   "source": [
    "**d)** Endre følgende kode slik at den fungerer, og kommenter hva som var feil."
   ]
  },
  {
   "cell_type": "code",
   "execution_count": 5,
   "metadata": {
    "ExecuteTime": {
     "end_time": "2019-07-03T07:54:52.891140Z",
     "start_time": "2019-07-03T07:54:52.443003Z"
    }
   },
   "outputs": [
    {
     "name": "stdout",
     "output_type": "stream",
     "text": [
      "['Carina', 'Erik', 'Magnus', 'Miriam']\n"
     ]
    }
   ],
   "source": [
    "navn = ['Carina', 'erik', 'Magnus', 'Miriam'] #Feil med \"bracets, fikset opp \n",
    "navn[1] = 'Erik'\n",
    "print(navn)"
   ]
  },
  {
   "cell_type": "markdown",
   "metadata": {
    "deletable": false,
    "editable": false,
    "run_control": {
     "frozen": true
    }
   },
   "source": [
    "Dobbeltklikk på teksten under og skriv svaret ditt i boksen som kommer opp."
   ]
  },
  {
   "cell_type": "markdown",
   "metadata": {
    "deletable": false,
    "editable": false,
    "run_control": {
     "frozen": true
    }
   },
   "source": [
    "Svar: < dobbeltklikk her>"
   ]
  },
  {
   "cell_type": "markdown",
   "metadata": {
    "deletable": false,
    "editable": false,
    "run_control": {
     "frozen": true
    }
   },
   "source": [
    "**e)** Hva printes i koden under? Det holder ikke å kopiere koden og kjøre den, du må forklare hva som skjer underveis."
   ]
  },
  {
   "cell_type": "markdown",
   "metadata": {
    "deletable": false,
    "editable": false,
    "run_control": {
     "frozen": true
    }
   },
   "source": [
    "```python\n",
    "liste1 = [1,3,2,5,4,6]\n",
    "liste1.sort()\n",
    "liste2 = [7, 8, 9]\n",
    "liste3 = liste1+liste2\n",
    "liste3.insert(9, 10)\n",
    "liste3.remove(1)\n",
    "liste3.reverse()\n",
    "print(liste3)\n",
    "```\n",
    "\n",
    "Dobbeltklikk på teksten under og skriv svaret ditt i boksen som kommer opp."
   ]
  },
  {
   "cell_type": "markdown",
   "metadata": {
    "deletable": false,
    "editable": false,
    "run_control": {
     "frozen": true
    }
   },
   "source": [
    "Svar: < dobbeltklikk her>"
   ]
  },
  {
   "cell_type": "markdown",
   "metadata": {},
   "source": [
    "### Svar: \n",
    "Først sorterer vi liste1 i stigende rekkefølge. \n",
    "Deretter legger vi til liste2 som resulterer i en liste3 som er av tall fra 1 til 9. \n",
    "Deretter legger vi inn tallet 10 på indeks nummer 9.\n",
    "Vi sletter første forekomsten av tallet 1. "
   ]
  },
  {
   "cell_type": "code",
   "execution_count": 20,
   "metadata": {},
   "outputs": [
    {
     "name": "stdout",
     "output_type": "stream",
     "text": [
      "[10, 9, 8, 7, 6, 5, 4, 3, 2]\n"
     ]
    }
   ],
   "source": [
    "liste1 = [1,3,2,5,4,6]\n",
    "liste1.sort()\n",
    "liste2 = [7, 8, 9]\n",
    "liste3 = liste1+liste2\n",
    "liste3.insert(9, 10)\n",
    "liste3.remove(1)\n",
    "liste3.reverse()\n",
    "print(liste3)"
   ]
  },
  {
   "cell_type": "markdown",
   "metadata": {
    "deletable": false,
    "editable": false,
    "heading_collapsed": true,
    "run_control": {
     "frozen": true
    }
   },
   "source": [
    "### Noen innebygde funksjoner"
   ]
  },
  {
   "cell_type": "markdown",
   "metadata": {
    "deletable": false,
    "editable": false,
    "hidden": true,
    "run_control": {
     "frozen": true
    }
   },
   "source": [
    "insert(indexNummer, element) legger til element på indeksen indexNummer i en liste.\n",
    "\n",
    "Eksempel:"
   ]
  },
  {
   "cell_type": "code",
   "execution_count": null,
   "metadata": {
    "hidden": true
   },
   "outputs": [],
   "source": [
    "liste = [1,2,3,4,'hei', 5]\n",
    "liste.insert(3, 'pannekake') #liste = [1, 2, 3, 'pannekake', 4, 'hei', 5]"
   ]
  },
  {
   "cell_type": "markdown",
   "metadata": {
    "deletable": false,
    "editable": false,
    "hidden": true,
    "run_control": {
     "frozen": true
    }
   },
   "source": [
    "sort() sorterer elementene i en liste etter størrelse, med den minste verdien lengst til venstre."
   ]
  },
  {
   "cell_type": "code",
   "execution_count": null,
   "metadata": {
    "hidden": true
   },
   "outputs": [],
   "source": [
    "liste = [2,3,1,4,6]\n",
    "liste.sort()   #liste = [1,2,3,4,6]"
   ]
  },
  {
   "cell_type": "markdown",
   "metadata": {
    "deletable": false,
    "editable": false,
    "hidden": true,
    "run_control": {
     "frozen": true
    }
   },
   "source": [
    "remove(element) fjerner element fra listen."
   ]
  },
  {
   "cell_type": "code",
   "execution_count": null,
   "metadata": {
    "hidden": true
   },
   "outputs": [],
   "source": [
    "liste = [1,2,3,5]\n",
    "liste.remove(3)  # liste = [1,2,5]"
   ]
  },
  {
   "cell_type": "markdown",
   "metadata": {
    "deletable": false,
    "editable": false,
    "hidden": true,
    "run_control": {
     "frozen": true
    }
   },
   "source": [
    "reverse() reverserer listen, dvs. at listen blir speilet."
   ]
  },
  {
   "cell_type": "code",
   "execution_count": null,
   "metadata": {
    "hidden": true
   },
   "outputs": [],
   "source": [
    "liste = [1,2,3,5,7]\n",
    "liste.reverse()    #liste = [7,5,3,2,1]"
   ]
  }
 ],
 "metadata": {
  "kernelspec": {
   "display_name": "Python 3 (ipykernel)",
   "language": "python",
   "name": "python3"
  },
  "language_info": {
   "codemirror_mode": {
    "name": "ipython",
    "version": 3
   },
   "file_extension": ".py",
   "mimetype": "text/x-python",
   "name": "python",
   "nbconvert_exporter": "python",
   "pygments_lexer": "ipython3",
   "version": "3.11.6"
  },
  "toc": {
   "base_numbering": 1,
   "nav_menu": {},
   "number_sections": false,
   "sideBar": true,
   "skip_h1_title": false,
   "title_cell": "Table of Contents",
   "title_sidebar": "Contents",
   "toc_cell": false,
   "toc_position": {},
   "toc_section_display": true,
   "toc_window_display": false
  }
 },
 "nbformat": 4,
 "nbformat_minor": 4
}
