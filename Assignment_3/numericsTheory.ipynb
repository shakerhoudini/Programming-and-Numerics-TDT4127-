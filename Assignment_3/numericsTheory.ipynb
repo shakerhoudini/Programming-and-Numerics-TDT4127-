{
 "cells": [
  {
   "cell_type": "markdown",
   "metadata": {
    "deletable": false,
    "editable": false,
    "run_control": {
     "frozen": true
    }
   },
   "source": [
    "[Back to Assignment 3](_Oving3.ipynb)"
   ]
  },
  {
   "cell_type": "markdown",
   "metadata": {
    "deletable": false,
    "editable": false,
    "run_control": {
     "frozen": true
    }
   },
   "source": [
    "# Theory - Numerics exercise 3"
   ]
  },
  {
   "cell_type": "markdown",
   "metadata": {
    "deletable": false,
    "editable": false,
    "run_control": {
     "frozen": true
    }
   },
   "source": [
    "### a)\n",
    "How can one deduce the secant method from Newton's method"
   ]
  },
  {
   "cell_type": "markdown",
   "metadata": {},
   "source": [
    "The secant method can be deduced from Newtons method by making a small approximation to the derivative in Newtons method. \n",
    "\n",
    "The newtons method is given by the iterative fomula: \n",
    "\n",
    "$$\n",
    "x_{n+1} = x_n - \\frac{f(x_n)}{f'(x_n)}\n",
    "$$\n",
    "\n",
    "As you can see this method needs us to compute the derivative at each step. In some cases calculating the derivative can be difficult. The secant method replaces the derivative with a numerical approxiomation using values of f at two different points:\n",
    "\n",
    "$$\n",
    "f'(x_n) \\approx \\frac{f(x_n) - f(x_{n-1})}{x_n - x_{n-1}}\n",
    "$$\n",
    "\n",
    "We then substitue the approximation into Newtons method: \n",
    "\n",
    "$$\n",
    "x_{n+1} = x_n - \\frac{f(x_n)}{\\frac{f(x_n) - f(x_{n-1})}{x_n - x_{n-1}}}\n",
    "$$\n",
    "\n",
    "After Simplifying we get: \n",
    "\n",
    "$$\n",
    "x_{n+1} = x_n - f(x_n) \\cdot \\frac{x_n - x_{n-1}}{f(x_n) - f(x_{n-1})}\n",
    "$$\n"
   ]
  },
  {
   "cell_type": "markdown",
   "metadata": {
    "deletable": false,
    "editable": false,
    "run_control": {
     "frozen": true
    }
   },
   "source": [
    "### b)\n",
    "Will Newton's method always converge to a zero?"
   ]
  },
  {
   "cell_type": "markdown",
   "metadata": {},
   "source": [
    "No, Newtons method will not always converge to zero. The convergens depends on the followiung factors: \n",
    "\n",
    "1. Initial Guess\n",
    "   \n",
    "The method requires a good initial value guess. If the guess is too far away from the root, the method might feil to converge to or converge to a different root.\n",
    "\n",
    "\n",
    "2. Function Behavior\n",
    "\n",
    "The method works best for functions that are smooth and have continuous derivatives near the roots. If the function has discontinouties, has multiple roots or is not differentiable at certain points, the method might fail to converge. \n",
    "\n",
    "\n",
    "3. Derivative\n",
    "\n",
    "If the derivative is vert close to zero or very close to zero at some point of the iteration, the method might fail. This is because the method involves dividing by the derivative, and dividing by zero woudl cause the iteration to break down. "
   ]
  },
  {
   "cell_type": "markdown",
   "metadata": {
    "deletable": false,
    "editable": false,
    "run_control": {
     "frozen": true
    }
   },
   "source": [
    "### c)\n",
    "If no derivative is available, which method should you choose - Newton's method or the secant method?"
   ]
  },
  {
   "cell_type": "markdown",
   "metadata": {},
   "source": [
    "If no derivative is available you shoudl use the secant method. That is becausae Newtons method uses the derivative, while the secant method uses an approximation of the derivative. "
   ]
  },
  {
   "cell_type": "markdown",
   "metadata": {
    "deletable": false,
    "editable": false,
    "run_control": {
     "frozen": true
    }
   },
   "source": [
    "### d)\n",
    "Which method is the safest to use - Newton's method, the secant method or the bisection method?"
   ]
  },
  {
   "cell_type": "markdown",
   "metadata": {},
   "source": [
    "The safest method to use is the bisection method, for the following reasons: \n",
    "\n",
    "1. It guarantees convergenece to a root if the function is continous and there is a sign change between the two initial point.\n",
    "2. "
   ]
  },
  {
   "cell_type": "markdown",
   "metadata": {
    "deletable": false,
    "editable": false,
    "run_control": {
     "frozen": true
    }
   },
   "source": [
    "### e) \n",
    "Which method is the slowest to use - Newton's method, the secant method or the bisection method?"
   ]
  },
  {
   "cell_type": "markdown",
   "metadata": {},
   "source": [
    "< Doubleclick here to write your answer >"
   ]
  }
 ],
 "metadata": {
  "kernelspec": {
   "display_name": "Python 3 (ipykernel)",
   "language": "python",
   "name": "python3"
  },
  "language_info": {
   "codemirror_mode": {
    "name": "ipython",
    "version": 3
   },
   "file_extension": ".py",
   "mimetype": "text/x-python",
   "name": "python",
   "nbconvert_exporter": "python",
   "pygments_lexer": "ipython3",
   "version": "3.11.6"
  }
 },
 "nbformat": 4,
 "nbformat_minor": 4
}
