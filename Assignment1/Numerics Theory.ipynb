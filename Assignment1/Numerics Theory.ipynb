{
 "cells": [
  {
   "cell_type": "markdown",
   "metadata": {
    "deletable": false,
    "editable": false,
    "hide_input": true,
    "run_control": {
     "frozen": true
    }
   },
   "source": [
    "# Theory - Numerics exercise 1"
   ]
  },
  {
   "cell_type": "markdown",
   "metadata": {
    "deletable": false,
    "editable": false,
    "heading_collapsed": true,
    "run_control": {
     "frozen": true
    }
   },
   "source": [
    "#### Using floating point numbers in Python (click the arrow to the left to expand)"
   ]
  },
  {
   "attachments": {},
   "cell_type": "markdown",
   "metadata": {
    "deletable": false,
    "editable": false,
    "hidden": true
   },
   "source": [
    "Computers represent numbers, in base 2, as bits. They have a finite amount of bits available, and to keep the number representations equal across programming languages and platforms, standards are made for how a computer is to store numbers internally. To represent decimal numbers, Python uses double precision floating point numbers (doubles). Doubles consist of 8 bytes, i.e. 64 bits $b_0,b_1,...,b_{63}$ that each can take the values 0 or 1. They are used to represent a decimal number $a$ on the form\n",
    "$$\\mathrm{fl}(a) = (-1)^{b_{0}}*2^{e-1023}*1.b_{1}b_{2}b_{3}....b_{52}.$$\n",
    "\n",
    "Here, the exponent is given as $e = b_{53}b_{54}b_{55}b_{56}b_{57}b_{58}b_{59}b_{60}b_{61}b_{62}b_{63},$ a base 2 integer. Note that $e = 00000000000$ and $e=1111111111$ are interpreted as $0$ and $\\infty$ respectively, so e takes values between 1 and 2046. The mantissa $1.b_{1}b_{2}b_{3}....b_{52}$ is a real number in base 2 with values between 1 and 2:\n",
    "$$ 1.b_{1}b_{2}b_{3}....b_{52} = 1 + \\sum_{j = 1}^{52}b_{j}2^{-j}. $$\n",
    "Since this is a finite sum, we have a finite amount of numbers at our disposal. This means we cannot represent all of the infinitely many real numbers *exactly* as doubles. We can, however, guarantee a certain *precision*.\n",
    "\n",
    "An example of a number that can be exactly represented on this format is 1.25. It is represented as \n",
    "\n",
    "$$b_{1} \\quad b_{53}b_{54}b_{55}b_{56}b_{57}b_{58}b_{59}b_{60}b_{61}b_{62}b_{63} \\quad b_{1}b_{2}b_{3}...b_{52}\n",
    "\\quad$$\n",
    "$$= \\quad 0 \\quad 0 1 1 1 1 1 1 1 1 1 1 \\quad 010000000000000000000000000000000000000000000000000.$$\n",
    "\n",
    "An example of a number that cannot be exactly represented on this format is 9.4. It is represented as\n",
    "$$b_{1} \\quad b_{53}b_{54}b_{55}b_{56}b_{57}b_{58}b_{59}b_{60}b_{61}b_{62}b_{63} \\quad b_{1}b_{2}b_{3}...b_{52}\n",
    "\\quad$$\n",
    "$$= \\quad 0 \\quad 1 0 0 0 0 0 0 0 0 1 0 \\quad 0010110011001100110011001100110011001100110011001100.$$\n",
    "\n",
    "If you check closely, you will find that $fl(9.4) = 9.4 + 2^{-49} - 0.4 * 2^{-48} = 9.4 + (1-0.8) * 2^{-49} = 9.4 + 0.2 * 2^{-49}$, i.e. there is an error of $ 0.2 * 2^{-49}$.\n",
    "\n",
    "\n",
    "In general, one can show that for a floating point number the relative truncation error and the absolute truncation error are given by, respectively,\n",
    "$$\\frac{|\\mathrm{fl}(a) - a|}{|a|} \\leq \\epsilon_{mach} \\qquad \\mathrm{ and } \\qquad |\\mathrm{fl}(a) - a| \\leq |a|\\epsilon_{mach}$$\n",
    "where the *machine epsilon* $\\epsilon_{mach}$,  is the smallest unit of precision in the mantissa. For doubles, machine epsilon is $2^{-52} = 2.22*10^{-16}$ since the last decimal spot in the mantissa is $b_{51}$, corresponding to the value $2^{-51}£. For other floating point standard, other precisions apply. If you are interested, you can read more about this [here](https://en.wikipedia.org/wiki/Floating-point_arithmetic)."
   ]
  },
  {
   "cell_type": "markdown",
   "metadata": {
    "deletable": false,
    "editable": false,
    "run_control": {
     "frozen": true
    }
   },
   "source": [
    "#### a) How many bits of computer memory are used when storing a double?"
   ]
  },
  {
   "cell_type": "markdown",
   "metadata": {},
   "source": [
    "Doubles consist of 8 bytes, i.e. 64 bits"
   ]
  },
  {
   "cell_type": "markdown",
   "metadata": {
    "deletable": false,
    "editable": false,
    "run_control": {
     "frozen": true
    }
   },
   "source": [
    "#### b) How are these bits distributed among sign, exponent and significand?"
   ]
  },
  {
   "cell_type": "markdown",
   "metadata": {},
   "source": [
    "$$\n",
    "\\text{In the IEEE 754 standard for double precision floating-point numbers:}\n",
    "$$\n",
    "\n",
    "$$\n",
    "\\begin{aligned}\n",
    "    &\\text{• \\textbf{Sign bit}: 1 bit} \\\\\n",
    "    &\\text{• \\textbf{Exponent}: 11 bits} \\\\\n",
    "    &\\text{• \\textbf{Significand (Mantissa)}: 52 bits}\n",
    "\\end{aligned}\n",
    "$$\n",
    "$$\n",
    "\n"
   ]
  },
  {
   "cell_type": "markdown",
   "metadata": {
    "deletable": false,
    "editable": false,
    "run_control": {
     "frozen": true
    }
   },
   "source": [
    "#### c) What are, in absolute value, the largest and smallest numbers representable as doubles?"
   ]
  },
  {
   "cell_type": "markdown",
   "metadata": {},
   "source": [
    "$$\r\n",
    "\\text{Smallest Positive Normalized Number:}\r\n",
    "$$\r\n",
    "\r\n",
    "$$\r\n",
    "\\text{The smallest positive normalized double is approximately } 2.2250738585072014 \\times 10^{-308}.\r\n",
    "$$\r\n",
    "\r\n",
    "$$\r\n",
    "\\text{Largest Positive Number:}\r\n",
    "$$\r\n",
    "\r\n",
    "$$\r\n",
    "\\text{The largest representable double is approximately } 1.7976931348623157 \\times 10^{308}.\r\n",
    "$$\r\n"
   ]
  },
  {
   "cell_type": "markdown",
   "metadata": {
    "deletable": false,
    "editable": false,
    "run_control": {
     "frozen": true
    }
   },
   "source": [
    "#### d) Convert the below numbers to doubles, fl(a), and comment for each of them whether it is an exact representation or not. \n",
    "You do not need to find more than the first eight bits of the significand. You are allowed to use an online \"double converter\" if you like.\n",
    "- 0.25\n",
    "- 4.5\n",
    "- 0.1"
   ]
  },
  {
   "cell_type": "markdown",
   "metadata": {},
   "source": [
    "In this task i just used the converter: \n",
    "https://www.binaryconvert.com/result_double.html?decimal=048046049.\n",
    "\n",
    "Thats what im basing my answers on. I also did manually convert them to binary for the cause of practice. \n",
    "\n",
    "\n",
    "1) 0.25 in binary is 0.01. This is possible to represent exact. \n",
    "2) 4.5 in binary is 100.1 This is possible to represent exact. \n",
    "3) 0.1 is not possible to represent exact. In the process of converting we have a repeating fraction. "
   ]
  },
  {
   "cell_type": "markdown",
   "metadata": {
    "deletable": false,
    "editable": false,
    "run_control": {
     "frozen": true
    }
   },
   "source": [
    "#### e) Find the absolute round-off error of the numbers below when represented as a double.\n",
    "\n",
    "- 3.1415\n",
    "- 6.022140857*10^23\n",
    "- 0.8*10^(-10)"
   ]
  },
  {
   "cell_type": "markdown",
   "metadata": {},
   "source": [
    "a) Double representation: 3.14150000000000018118839761883E0\n",
    "\n",
    "The absolute round off error is 1.8118839761883e−16\n",
    "\n",
    "b)  Double representation: 6.02214085700000015187968E23\n",
    "\n",
    "The absolute round off error is 1.5187968e8\n",
    "\n",
    "c)  Double representation: 7.99999999999999951597575425552E-11\n",
    "\n",
    "The absolute round off error is 4.8402424574448e−27\n",
    "\n"
   ]
  },
  {
   "cell_type": "code",
   "execution_count": null,
   "metadata": {},
   "outputs": [],
   "source": []
  }
 ],
 "metadata": {
  "kernelspec": {
   "display_name": "Python 3 (ipykernel)",
   "language": "python",
   "name": "python3"
  },
  "language_info": {
   "codemirror_mode": {
    "name": "ipython",
    "version": 3
   },
   "file_extension": ".py",
   "mimetype": "text/x-python",
   "name": "python",
   "nbconvert_exporter": "python",
   "pygments_lexer": "ipython3",
   "version": "3.11.6"
  },
  "vscode": {
   "interpreter": {
    "hash": "916dbcbb3f70747c44a77c7bcd40155683ae19c65e1c03b4aa3499c5328201f1"
   }
  }
 },
 "nbformat": 4,
 "nbformat_minor": 4
}
