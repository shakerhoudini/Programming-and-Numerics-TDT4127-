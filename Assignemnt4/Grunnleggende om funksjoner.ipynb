{
 "cells": [
  {
   "cell_type": "markdown",
   "metadata": {
    "deletable": false,
    "editable": false,
    "run_control": {
     "frozen": true
    }
   },
   "source": [
    "<nav class=\"navbar navbar-default\">\n",
    "  <div class=\"container-fluid\">\n",
    "    <div class=\"navbar-header\">\n",
    "      <a class=\"navbar-brand\" href=\"_Oving5.ipynb\">Øving 5</a>\n",
    "    </div>\n",
    "    <ul class=\"nav navbar-nav\">\n",
    "    <li class=\"active\"><a href=\"Grunnleggende%20om%20funksjoner.ipynb\">Grunnleggende om funksjoner</a></li>\n",
    "    <li><a href=\"Varierte%20funksjoner.ipynb\">Varierte funksjoner</a></li>\n",
    "    <li><a href=\"Lokale%20variabler.ipynb\">Lokale variabler</a></li>\n",
    "    <li><a href=\"Globale%20variabler.ipynb\">Globale variabler</a></li>\n",
    "    <li><a href=\"Euklids%20algoritme.ipynb\">Euklids algoritme</a></li>\n",
    "    <li><a href=\"Primtall.ipynb\">Primtall</a></li>\n",
    "    <li><a href=\"Multiplikasjon.ipynb\">Multiplikasjon</a></li>\n",
    "        <li><a href=\"Den%20store%20sporreundersokelsen.ipynb\">Den store spørreundersøkelsen</a></li>\n",
    "    <li><a href=\"Arbeidsdager.ipynb\">Arbeidsdager</a></li>\n",
    "    <li><a href=\"Sekantmetoden.ipynb\">Sekantmetoden</a></li>\n",
    "    <li><a href=\"Not%20quite%20Blackjack.ipynb\">Not quite Blackjack</a></li>\n",
    "        <li><a href=\"Funksjoner%20og%20Jupyter%20widgets.ipynb\">Funksjoner og Jupyter widgets</a></li>\n",
    "    </ul>\n",
    "  </div>\n",
    "</nav>\n",
    "\n",
    "# Grunnleggende om funksjoner\n",
    "\n",
    "**Læringsmål:**\n",
    "- Funksjoner\n",
    "\n",
    "**Starting Out with Python:**\n",
    "- Kap. 5.1-5.2\n",
    "- Kap. 5.4\n",
    "- Kap. 5.8"
   ]
  },
  {
   "cell_type": "markdown",
   "metadata": {
    "deletable": false,
    "editable": false,
    "heading_collapsed": true,
    "run_control": {
     "frozen": true
    }
   },
   "source": [
    "## Innføring – Del 1: Enkle funksjoner uten parametre og returverdi\n",
    "Dette er ikke en del av oppgaven, men kan være lurt å lese før du går videre"
   ]
  },
  {
   "cell_type": "markdown",
   "metadata": {
    "deletable": false,
    "editable": false,
    "hidden": true,
    "run_control": {
     "frozen": true
    }
   },
   "source": [
    "Programmet nedenfor tenkes å skulle skrive ut en masse data (hvorav bare fragmenter er vist her).\n",
    "\n",
    "Mellom hver bolk av data vil vi ha et skille med blank linje, horisontal strek og en ny blank linje.\n",
    "\n",
    "Dette gir identisk kode alle stedene markert med `##`, som er unødig tungvint."
   ]
  },
  {
   "cell_type": "code",
   "execution_count": 1,
   "metadata": {
    "hidden": true
   },
   "outputs": [
    {
     "name": "stdout",
     "output_type": "stream",
     "text": [
      "Eksempel der vi BURDE brukt en funksjon\n",
      "\n",
      "---------------------\n",
      "\n",
      "Data fra måler 1: 23.4 21.2 21.9\n",
      "Osv., ...\n",
      "\n",
      "---------------------\n",
      "\n",
      "Data fra måler 2: ...\n",
      "\n",
      "---------------------\n",
      "\n",
      "Data fra måler 3: ...\n",
      "\n",
      "---------------------\n",
      "\n"
     ]
    }
   ],
   "source": [
    "# EKSEMPEL UTEN FUNKSJON\n",
    "print(\"Eksempel der vi BURDE brukt en funksjon\")\n",
    "print()                                 ##\n",
    "print(\"---------------------\")          ##\n",
    "print()                                 ##\n",
    "print(\"Data fra måler 1:\", 23.4, 21.2, 21.9)\n",
    "print(\"Osv., ...\")\n",
    "print()                                 ##\n",
    "print(\"---------------------\")          ##\n",
    "print()                                 ##\n",
    "print(\"Data fra måler 2: ...\")\n",
    "print()                                 ##\n",
    "print(\"---------------------\")          ##\n",
    "print()                                 ##\n",
    "print(\"Data fra måler 3: ...\")\n",
    "print()                                 ##\n",
    "print(\"---------------------\")          ##\n",
    "print()                                 ##"
   ]
  },
  {
   "cell_type": "markdown",
   "metadata": {
    "deletable": false,
    "editable": false,
    "hidden": true,
    "run_control": {
     "frozen": true
    }
   },
   "source": [
    "Nedenfor er det løst bedre:\n",
    "\n",
    "- Kodesnutten som trengs flere steder i programmet, defineres øverst som en funksjon, her med navnet `skille()`\n",
    "- Trenger da kun skrive `skille()` de stedene i koden hvor vi ønsker disse tre print-setningene utført."
   ]
  },
  {
   "cell_type": "code",
   "execution_count": 1,
   "metadata": {
    "ExecuteTime": {
     "end_time": "2019-07-02T14:08:32.800529Z",
     "start_time": "2019-07-02T14:08:32.779553Z"
    },
    "hidden": true
   },
   "outputs": [
    {
     "name": "stdout",
     "output_type": "stream",
     "text": [
      "Samme eksempel MED funksjon\n",
      "\n",
      "---------------------\n",
      "\n",
      "Data fra måler 1: 23.4 21.2 21.9\n",
      "Osv., ...\n",
      "\n",
      "---------------------\n",
      "\n",
      "Data fra måler 2: 18.4 19.1 18.7\n",
      "\n",
      "---------------------\n",
      "\n",
      "Data fra måler 3: 19.9 19.1 18.2\n",
      "\n",
      "---------------------\n",
      "\n"
     ]
    }
   ],
   "source": [
    "# EKSEMPEL MED FUNKSJON\n",
    "def skille():\n",
    "    print()\n",
    "    print(\"---------------------\")\n",
    "    print()\n",
    "\n",
    "\n",
    "print(\"Samme eksempel MED funksjon\")\n",
    "skille()\n",
    "print(\"Data fra måler 1:\", 23.4, 21.2, 21.9)\n",
    "print(\"Osv., ...\")\n",
    "skille()\n",
    "print(\"Data fra måler 2:\", 18.4, 19.1, 18.7)\n",
    "skille()\n",
    "print(\"Data fra måler 3:\", 19.9, 19.1, 18.2)\n",
    "skille()"
   ]
  },
  {
   "cell_type": "markdown",
   "metadata": {
    "deletable": false,
    "editable": false,
    "hidden": true,
    "run_control": {
     "frozen": true
    }
   },
   "source": [
    "Utførelsen av denne koden starter på toppen av **skriptet**, dvs. koden som som er ute på vanlig marg.\n",
    "\n",
    "Det første som printes er derfor \"Samme eksempel MED funksjon\".\n",
    "\n",
    "Deretter de tre printene i skille-funksjonen.\n",
    "\n",
    "Deretter \"Data fra måling 1: ...\" Osv. Alt i alt blir resultatet dermed identisk med koden der vi ikke hadde funksjon, men koden med funksjon er kortere og ryddigere fordi vi unngår å gjenta identiske kodelinjer flere ganger."
   ]
  },
  {
   "cell_type": "markdown",
   "metadata": {
    "deletable": false,
    "editable": false,
    "run_control": {
     "frozen": true
    }
   },
   "source": [
    "## a)"
   ]
  },
  {
   "cell_type": "markdown",
   "metadata": {
    "deletable": false,
    "editable": false,
    "run_control": {
     "frozen": true
    }
   },
   "source": [
    "Koden under har 4 identiske fragmenter merket med ##.\n",
    "\n",
    "***Endre koden på følgende måte:***\n",
    "\n",
    "- definer en funksjon `siksak()` som utfører de 4 linjene som er merket med `##`\n",
    "- i skriptet kan du da erstatte disse 4 kodelinjene med kall til `siksak()`\n",
    "\n",
    "Utskriften etter endringen din skal være eksakt den samme som før programmet ble endret. Hvis du er i tvil om hva du skal gjøre her, les tutorial ovenfor som viser et lignende eksempel."
   ]
  },
  {
   "cell_type": "code",
   "execution_count": 2,
   "metadata": {},
   "outputs": [
    {
     "name": "stdout",
     "output_type": "stream",
     "text": [
      "Data fra spørreundersøkelse\n",
      "\n",
      "**  **  **  **  **  **  **  **  **\n",
      "  **  **  **  **  **  **  **  **\n",
      "\n",
      "Del 1: ... div. data her, ikke vist\n",
      "\n",
      "**  **  **  **  **  **  **  **  **\n",
      "  **  **  **  **  **  **  **  **\n",
      "\n",
      "Del 2: ... mer data ...\n",
      "\n",
      "**  **  **  **  **  **  **  **  **\n",
      "  **  **  **  **  **  **  **  **\n",
      "\n",
      "Del 3: ... enda mer data ...\n",
      "\n",
      "**  **  **  **  **  **  **  **  **\n",
      "  **  **  **  **  **  **  **  **\n",
      "\n",
      "Del 4: ... ytterligere data ...\n"
     ]
    }
   ],
   "source": [
    "def siksak():\n",
    "    print()                                         \n",
    "    print(\"**  **  **  **  **  **  **  **  **\")     \n",
    "    print(\"  **  **  **  **  **  **  **  **\")      \n",
    "    print()       \n",
    "\n",
    "\n",
    "print(\"Data fra spørreundersøkelse\")\n",
    "siksak()                                 \n",
    "print(\"Del 1: ... div. data her, ikke vist\")\n",
    "siksak()                                        ##\n",
    "print(\"Del 2: ... mer data ...\")\n",
    "siksak()                                         ##\n",
    "print(\"Del 3: ... enda mer data ...\")\n",
    "siksak()                                         ##\n",
    "print(\"Del 4: ... ytterligere data ...\")"
   ]
  },
  {
   "cell_type": "markdown",
   "metadata": {
    "deletable": false,
    "editable": false,
    "heading_collapsed": true,
    "run_control": {
     "frozen": true
    }
   },
   "source": [
    "## Innføring – Del 2: Funksjoner med parametre, men fortsatt uten returverdi\n",
    "\n",
    "Dette er ikke en del av oppgaven, men kan være lurt å lese før du går videre"
   ]
  },
  {
   "cell_type": "markdown",
   "metadata": {
    "deletable": false,
    "editable": false,
    "hidden": true,
    "run_control": {
     "frozen": true
    }
   },
   "source": [
    "Innføring – del 1 og oppgave (a) illustrerte hovedpoenget med funksjoner: At vi har lik kode flere sted i et program, denne kan da defineres en gang for alle og deretter kalles ved navn, så slipper vi å gjenta kodelinjer, og programmet blir ryddigere.\n",
    "\n",
    "Uten parametre har funksjoner likevel begrenset slagkraft. En funksjon uten parametre gjør eksakt det samme hver gang vi kaller den. Men ofte er behovet å gjøre nesten det samme, men ikke helt. En kvadratrotfunksjon trenger f.eks. å kunne regne ut roten av ulike tall - en funksjon som bare kan regne roten av 2, er ikke særlig nyttig. Nedenfor vises et eksempel som ligner på eksemplet fra oppgave (a). Vi har en utskrift hvor det inngår overskrifter i hashtag-bokser. Men koden er bare nesten lik, siden overskriftens tekst endrer seg fra gang til gang. Hvis vi lager en funksjon som alltid skriver INTRODUKSJON, kan denne ikke brukes for de neste overskriftene."
   ]
  },
  {
   "cell_type": "code",
   "execution_count": 3,
   "metadata": {
    "hidden": true
   },
   "outputs": [
    {
     "name": "stdout",
     "output_type": "stream",
     "text": [
      "\n",
      "################\n",
      "# INTRODUKSJON #\n",
      "################\n",
      "\n",
      "her kommer noen innledende forklaringer...\n",
      "\n",
      "##########################\n",
      "# DATA FRA EKSPERIMENT 1 #\n",
      "##########################\n",
      "\n",
      "Div. data: 123 345 432 356\n",
      "\n",
      "##########################\n",
      "# DATA FRA EKSPERIMENT 2 #\n",
      "##########################\n",
      "\n",
      "Osv...\n"
     ]
    }
   ],
   "source": [
    "# EKSEMPEL UTEN FUNKSJON\n",
    "print()\n",
    "print(\"################\")\n",
    "print(\"# INTRODUKSJON #\")\n",
    "print(\"################\")\n",
    "print()\n",
    "print(\"her kommer noen innledende forklaringer...\")\n",
    "print()\n",
    "print(\"##########################\")\n",
    "print(\"# DATA FRA EKSPERIMENT 1 #\")\n",
    "print(\"##########################\")\n",
    "print()\n",
    "print(\"Div. data:\", 123, 345, 432, 356)\n",
    "print()\n",
    "print(\"##########################\")\n",
    "print(\"# DATA FRA EKSPERIMENT 2 #\")\n",
    "print(\"##########################\")\n",
    "print()\n",
    "print(\"Osv...\") "
   ]
  },
  {
   "cell_type": "markdown",
   "metadata": {
    "deletable": false,
    "editable": false,
    "hidden": true,
    "run_control": {
     "frozen": true
    }
   },
   "source": [
    "Løsningen blir å utstyre funksjonen med en **parameter**, som gir funksjonen fleksibilitet til å endre litt oppførsel fra gang til gang:"
   ]
  },
  {
   "cell_type": "code",
   "execution_count": 3,
   "metadata": {
    "hidden": true
   },
   "outputs": [
    {
     "name": "stdout",
     "output_type": "stream",
     "text": [
      "\n",
      "################\n",
      "# INTRODUKSJON #\n",
      "################\n",
      "\n",
      "her kommer noen innledende forklaringer...\n",
      "\n",
      "##########################\n",
      "# DATA FRA EKSPERIMENT 1 #\n",
      "##########################\n",
      "\n",
      "Div. data: 123 345 432 356\n",
      "\n",
      "##########################\n",
      "# DATA FRA EKSPERIMENT 2 #\n",
      "##########################\n",
      "\n",
      "Osv...\n"
     ]
    }
   ],
   "source": [
    "# SAMME EKSEMPEL MED FUNKSJON\n",
    "def box_heading(tekst):\n",
    "    bredde = len(tekst) + 4\n",
    "    print()\n",
    "    print(\"#\" * bredde )\n",
    "    print(\"# \" + tekst + \" #\")\n",
    "    print(\"#\" * bredde )\n",
    "    print()\n",
    "     \n",
    "box_heading(\"INTRODUKSJON\")\n",
    "print(\"her kommer noen innledende forklaringer...\")\n",
    "box_heading(\"DATA FRA EKSPERIMENT 1\")\n",
    "print(\"Div. data:\", 123, 345, 432, 356)\n",
    "box_heading(\"DATA FRA EKSPERIMENT 2\")\n",
    "print(\"Osv...\")"
   ]
  },
  {
   "cell_type": "markdown",
   "metadata": {
    "deletable": false,
    "editable": false,
    "hidden": true,
    "run_control": {
     "frozen": true
    }
   },
   "source": [
    "Programmet starter med å utføre `box_heading(\"INTRODUKSJON\")`. Dette gjør at vi kjører funksjonen `box_heading`, med argumentet `\"INTRODUKSJON\"` byttet inn for parameteren `tekst`.\n",
    "\n",
    "Setningen `print(\"# \" + tekst + \" #\")` gjør da at denne strengen skrives midt i boksen.\n",
    "\n",
    "Funksjonen `len(tekst)` gir oss lengden på strengen, dette gjør det mulig for oss å tilpasse bredden på boksen til hva som gis inn for parameteren.\n",
    "\n",
    "I neste kall av `box_heading` er det derimot argumentet `\"DATA FRA EKSPERIMENT 1\"` som byttes inn for parameteren `tekst`. Osv. Bruk av parameter gjør det dermed mulig for funksjonen `box_heading` å skrive ulik tekst i boksen fra gang til gang."
   ]
  },
  {
   "cell_type": "markdown",
   "metadata": {
    "deletable": false,
    "editable": false,
    "heading_collapsed": true,
    "run_control": {
     "frozen": true
    }
   },
   "source": [
    "## Innføring - Del 3: Funksjoner med parametre *og* returverdi:\n",
    "\n",
    "Dette er ikke en del av oppgaven, men kan være lurt å lese før du går videre"
   ]
  },
  {
   "cell_type": "markdown",
   "metadata": {
    "deletable": false,
    "editable": false,
    "hidden": true,
    "run_control": {
     "frozen": true
    }
   },
   "source": [
    "I (a) og (b) har vi sett på funksjoner uten returverdi. Dette kan være greit for funksjoner som spesifikt skal skrive eller tegne på skjermen.\n",
    "\n",
    "Men for funksjoner som skal beregne en verdi (og svært mange funksjoner skal nettopp det), trenger vi å få ut et resultat av beregningen. Til dette brukes **returverdi**.\n",
    "\n",
    "Det trenger ikke å være en matematisk beregning. For å vise noe annet, gis under et eksempel relatert til språk, nemlig en funksjon for å gradbøye adjektiv.\n",
    "\n",
    "Ideen med funksjonen **komparativ()** er at den får inn et adjektiv i vanlig positiv form, og da kan bøye til komparativ, f.eks. snill -> snillere, interessant -> mer interessant.\n",
    "\n",
    "For at ikke koden skal bli for lang, er eksemplet grovt forenklet - mange adjektiver vil bli bøyd feil.\n",
    "\n",
    "Å gi returverdi fra en funksjon, oppnås med ordet **return** (linje 7). Verdien av det som står etter return (her: variabelen svar, som vil være en streng, f.eks. \"snillere\") vil bli returnert fra funksjonen.\n",
    "\n",
    "Med \"snillere\" som returverdi vil da komparativ(adj) i linje 11 printe \"Hah! Jeg er mye snillere !\"\n",
    "\n",
    "Lenger nede i programmet, linje 16, vil bøyningen  (f.eks. \"snillere\") bli satt inn i variabelen fasit, som deretter brukes i en if-test."
   ]
  },
  {
   "cell_type": "code",
   "execution_count": 5,
   "metadata": {
    "ExecuteTime": {
     "end_time": "2019-07-02T14:35:04.925444Z",
     "start_time": "2019-07-02T14:34:33.712771Z"
    },
    "hidden": true
   },
   "outputs": [
    {
     "name": "stdin",
     "output_type": "stream",
     "text": [
      "Beskriv deg selv med et adjektiv:  pen\n"
     ]
    },
    {
     "name": "stdout",
     "output_type": "stream",
     "text": [
      "Hah! Jeg er mye penere!\n"
     ]
    },
    {
     "name": "stdin",
     "output_type": "stream",
     "text": [
      "Skriv inn et adjektiv:  motasert\n",
      "Hva er komparativ for motasert?  mer motasert\n"
     ]
    },
    {
     "name": "stdout",
     "output_type": "stream",
     "text": [
      "Korrekt!\n"
     ]
    }
   ],
   "source": [
    "def komparativ(adj):\n",
    "    # GROVT FORENKLET FOR Å KUNNE FOKUSERE PÅ HOVEDPOENGET\n",
    "    if len(adj) >= 8: # unøyaktig\n",
    "        svar = \"mer \" + adj\n",
    "    else:\n",
    "        svar = adj + \"ere\"\n",
    "    return svar\n",
    " \n",
    "### TILLEGG 1, ny funksjon, kommer her:\n",
    " \n",
    "#DEL AV KODEN HVOR SYSTEMET DISSER BRUKEREN\n",
    "adj = input(\"Beskriv deg selv med et adjektiv: \")\n",
    "print(\"Hah! Jeg er mye\", komparativ(adj) + \"!\")\n",
    " \n",
    "### TILLEGG 2 kommer her ...\n",
    " \n",
    "# DEL AV KODEN HVOR BRUKEREN TRENER PÅ Å GRADBØYE\n",
    "adj = input(\"Skriv inn et adjektiv: \")\n",
    "svar = input(\"Hva er komparativ for \" + adj + \"? \")\n",
    "fasit = komparativ(adj)\n",
    "if svar == fasit:\n",
    "    print(\"Korrekt!\")\n",
    "else:\n",
    "    print(\"Feil, det var\", fasit)\n",
    " \n",
    "### TILLEGG 3 kommer her..."
   ]
  },
  {
   "cell_type": "markdown",
   "metadata": {
    "deletable": false,
    "editable": false,
    "hidden": true,
    "run_control": {
     "frozen": true
    }
   },
   "source": [
    "Men hva oppnår vi med returverdi her? Hvorfor ikke like godt bruke print() i slutten av funksjonen, heller enn å returnere en verdi som printes senere??\n",
    "\n",
    "**Med returverdi oppnår vi at funksjonen blir mer generelt anvendelig.** Funksjonen lar seg bruke for to ulike behov i dette lille programmet:\n",
    "\n",
    "- BRUK 1, linje 11, her er det programmet som autogenererer komparativ form og printer ut på skjermen\n",
    "- BRUK 2, linje 16, her er det brukeren som prøver å svare hva komparativ er, programmet tester med en if-setning om det var korrekt\n",
    "\n",
    "**Hadde vi derimot printet i slutten av funksjonen, ville anvendeligheten har vært mindre.**\n",
    "\n",
    "- Printe \"Hah! Jeg er ...\" i slutten av funksjonen? Da passer den bare for BRUK 1\n",
    "- Gjøre en if-test i  slutten av funksjonen og printe Korrekt / Feil? Da passer den bare for BRUK 2\n",
    "- Gjøre bare print(svar) i slutten av funksjonen i stedet for return svar? Da passer den verken for BRUK 1 eller BRUK 2\n",
    "\n",
    "På samme måte ville input i starten av funksjonen (i stedet for parameteren adj) ødelegge den generelle anvendeligheten.\n",
    "\n",
    "- input(\"Beskriv deg selv...\") i funksjonen - og den passer kun for BRUK 1\n",
    "- input(\"Skriv inn...\") osv. i funksjonen - og den passer kun for BRUK 2\n",
    "\n",
    "For å lage generelt anvendelige funksjoner er det vanligvis lurt å unngå input og print i funksjonen - annet enn for funksjoner som spesifikt har som mål akkurat å kommunisere med brukeren."
   ]
  },
  {
   "cell_type": "markdown",
   "metadata": {
    "deletable": false,
    "editable": false,
    "run_control": {
     "frozen": true
    }
   },
   "source": [
    "# b)"
   ]
  },
  {
   "cell_type": "markdown",
   "metadata": {
    "deletable": false,
    "editable": false,
    "run_control": {
     "frozen": true
    }
   },
   "source": [
    "Ta utgangspunkt i koden nedenfor, som også er forklart i Tutorial like over. Kjør koden og sjekk at den virker. Ikke la deg bekymre deg om at en del adjektiver bøyes feilaktig."
   ]
  },
  {
   "cell_type": "code",
   "execution_count": 14,
   "metadata": {},
   "outputs": [
    {
     "ename": "KeyboardInterrupt",
     "evalue": "Interrupted by user",
     "output_type": "error",
     "traceback": [
      "\u001b[0;31m---------------------------------------------------------------------------\u001b[0m",
      "\u001b[0;31mKeyboardInterrupt\u001b[0m                         Traceback (most recent call last)",
      "Cell \u001b[0;32mIn[14], line 40\u001b[0m\n\u001b[1;32m     36\u001b[0m         \u001b[38;5;28;01mreturn\u001b[39;00m mess\n\u001b[1;32m     39\u001b[0m \u001b[38;5;66;03m#DEL AV KODEN HVOR SYSTEMET DISSER BRUKEREN\u001b[39;00m\n\u001b[0;32m---> 40\u001b[0m adj \u001b[38;5;241m=\u001b[39m \u001b[38;5;28;43minput\u001b[39;49m\u001b[43m(\u001b[49m\u001b[38;5;124;43m\"\u001b[39;49m\u001b[38;5;124;43mBeskriv deg selv med et adjektiv: \u001b[39;49m\u001b[38;5;124;43m\"\u001b[39;49m\u001b[43m)\u001b[49m\n\u001b[1;32m     41\u001b[0m \u001b[38;5;28mprint\u001b[39m(\u001b[38;5;124m\"\u001b[39m\u001b[38;5;124mHah! Jeg er mye\u001b[39m\u001b[38;5;124m\"\u001b[39m, komparativ(adj), \u001b[38;5;124m\"\u001b[39m\u001b[38;5;124m!\u001b[39m\u001b[38;5;124m\"\u001b[39m)\n\u001b[1;32m     43\u001b[0m \u001b[38;5;66;03m### TILLEGG 2 kommer her ...\u001b[39;00m\n",
      "File \u001b[0;32m/opt/conda/lib/python3.11/site-packages/ipykernel/kernelbase.py:1202\u001b[0m, in \u001b[0;36mKernel.raw_input\u001b[0;34m(self, prompt)\u001b[0m\n\u001b[1;32m   1200\u001b[0m     msg \u001b[38;5;241m=\u001b[39m \u001b[38;5;124m\"\u001b[39m\u001b[38;5;124mraw_input was called, but this frontend does not support input requests.\u001b[39m\u001b[38;5;124m\"\u001b[39m\n\u001b[1;32m   1201\u001b[0m     \u001b[38;5;28;01mraise\u001b[39;00m StdinNotImplementedError(msg)\n\u001b[0;32m-> 1202\u001b[0m \u001b[38;5;28;01mreturn\u001b[39;00m \u001b[38;5;28;43mself\u001b[39;49m\u001b[38;5;241;43m.\u001b[39;49m\u001b[43m_input_request\u001b[49m\u001b[43m(\u001b[49m\n\u001b[1;32m   1203\u001b[0m \u001b[43m    \u001b[49m\u001b[38;5;28;43mstr\u001b[39;49m\u001b[43m(\u001b[49m\u001b[43mprompt\u001b[49m\u001b[43m)\u001b[49m\u001b[43m,\u001b[49m\n\u001b[1;32m   1204\u001b[0m \u001b[43m    \u001b[49m\u001b[38;5;28;43mself\u001b[39;49m\u001b[38;5;241;43m.\u001b[39;49m\u001b[43m_parent_ident\u001b[49m\u001b[43m[\u001b[49m\u001b[38;5;124;43m\"\u001b[39;49m\u001b[38;5;124;43mshell\u001b[39;49m\u001b[38;5;124;43m\"\u001b[39;49m\u001b[43m]\u001b[49m\u001b[43m,\u001b[49m\n\u001b[1;32m   1205\u001b[0m \u001b[43m    \u001b[49m\u001b[38;5;28;43mself\u001b[39;49m\u001b[38;5;241;43m.\u001b[39;49m\u001b[43mget_parent\u001b[49m\u001b[43m(\u001b[49m\u001b[38;5;124;43m\"\u001b[39;49m\u001b[38;5;124;43mshell\u001b[39;49m\u001b[38;5;124;43m\"\u001b[39;49m\u001b[43m)\u001b[49m\u001b[43m,\u001b[49m\n\u001b[1;32m   1206\u001b[0m \u001b[43m    \u001b[49m\u001b[43mpassword\u001b[49m\u001b[38;5;241;43m=\u001b[39;49m\u001b[38;5;28;43;01mFalse\u001b[39;49;00m\u001b[43m,\u001b[49m\n\u001b[1;32m   1207\u001b[0m \u001b[43m\u001b[49m\u001b[43m)\u001b[49m\n",
      "File \u001b[0;32m/opt/conda/lib/python3.11/site-packages/ipykernel/kernelbase.py:1245\u001b[0m, in \u001b[0;36mKernel._input_request\u001b[0;34m(self, prompt, ident, parent, password)\u001b[0m\n\u001b[1;32m   1242\u001b[0m \u001b[38;5;28;01mexcept\u001b[39;00m \u001b[38;5;167;01mKeyboardInterrupt\u001b[39;00m:\n\u001b[1;32m   1243\u001b[0m     \u001b[38;5;66;03m# re-raise KeyboardInterrupt, to truncate traceback\u001b[39;00m\n\u001b[1;32m   1244\u001b[0m     msg \u001b[38;5;241m=\u001b[39m \u001b[38;5;124m\"\u001b[39m\u001b[38;5;124mInterrupted by user\u001b[39m\u001b[38;5;124m\"\u001b[39m\n\u001b[0;32m-> 1245\u001b[0m     \u001b[38;5;28;01mraise\u001b[39;00m \u001b[38;5;167;01mKeyboardInterrupt\u001b[39;00m(msg) \u001b[38;5;28;01mfrom\u001b[39;00m \u001b[38;5;28;01mNone\u001b[39;00m\n\u001b[1;32m   1246\u001b[0m \u001b[38;5;28;01mexcept\u001b[39;00m \u001b[38;5;167;01mException\u001b[39;00m:\n\u001b[1;32m   1247\u001b[0m     \u001b[38;5;28mself\u001b[39m\u001b[38;5;241m.\u001b[39mlog\u001b[38;5;241m.\u001b[39mwarning(\u001b[38;5;124m\"\u001b[39m\u001b[38;5;124mInvalid Message:\u001b[39m\u001b[38;5;124m\"\u001b[39m, exc_info\u001b[38;5;241m=\u001b[39m\u001b[38;5;28;01mTrue\u001b[39;00m)\n",
      "\u001b[0;31mKeyboardInterrupt\u001b[0m: Interrupted by user"
     ]
    }
   ],
   "source": [
    "def komparativ(adj):\n",
    "    # GROVT FORENKLET FOR Å KUNNE FOKUSERE PÅ HOVEDPOENGET\n",
    "    if len(adj) >= 8: # unøyaktig\n",
    "        svar = \"mer \" + adj\n",
    "    else:\n",
    "        svar = adj + \"ere\"\n",
    "    return svar\n",
    "  \n",
    "### TILLEGG 1, ny funksjon, kommer her:\n",
    "\n",
    "def superlativ(adj):\n",
    "    if len(adj) >= 8: \n",
    "        svar = \"mest \" + adj\n",
    "    else:\n",
    "        svar = adj + \"est\"\n",
    "    return svar\n",
    "\n",
    "\n",
    "### Mester Funksjonen \n",
    "\n",
    "def adjektiv(adj, type):\n",
    "    if type == 1:\n",
    "        if len(adj) >= 8:  # unøyaktig\n",
    "            svar = \"mer \" + adj\n",
    "        else:\n",
    "            svar = adj + \"ere\"\n",
    "        return svar\n",
    "    elif type == 2:\n",
    "        if len(adj) >= 8:\n",
    "            svar = \"mest \" + adj\n",
    "        else:\n",
    "            svar = adj + \"est\"\n",
    "        return svar\n",
    "    else:\n",
    "        mess = \"Wrong Command\"\n",
    "        return mess\n",
    "        \n",
    "\n",
    "#DEL AV KODEN HVOR SYSTEMET DISSER BRUKEREN\n",
    "adj = input(\"Beskriv deg selv med et adjektiv: \")\n",
    "print(\"Hah! Jeg er mye\", komparativ(adj), \"!\")\n",
    "  \n",
    "### TILLEGG 2 kommer her ...\n",
    "adj = input(\"Beskriv deg selv med et adjektiv: \")\n",
    "print(\"Hah! Jeg er faktisk\", superlativ(adj), \"i hele verden!\")\n",
    "\n",
    "\n",
    "# DEL AV KODEN HVOR BRUKEREN TRENER PÅ Å GRADBØYE\n",
    "adj = input(\"Skriv inn et adjektiv: \")\n",
    "svar = input(\"Hva er komparativ for\" + adj + \"? \")\n",
    "fasit = komparativ(adj)\n",
    "if svar == fasit:\n",
    "    print(\"Korrekt!\")\n",
    "else:\n",
    "    print(\"Feil, det var\", fasit)\n",
    "  \n",
    "### TILLEGG 3 kommer her...\n",
    "adj = input(\"Skriv inn et adjektiv: \")\n",
    "svar = input(\"Hva er superlativ for \" + adj + \"? \")\n",
    "fasit = superlativ(adj)\n",
    "if svar == fasit:\n",
    "    print(\"Korrekt!\")\n",
    "else:\n",
    "    print(\"Feil, det var\", fasit)"
   ]
  },
  {
   "cell_type": "markdown",
   "metadata": {
    "deletable": false,
    "editable": false,
    "run_control": {
     "frozen": true
    }
   },
   "source": [
    "***Din oppgave: Lag en tilsvarende funksjon superlativ(adj)*** som tar inn som parameter et adjektiv i vanlig positiv form, bøyer det til superlativ (f.eks. snill -> snillest, interessant -> mest interessant), og returnerer superlativformen.\n",
    "\n",
    "Bortsett fra forskjellen i bøyning vil denne funksjonen være svært lik komparativ() som står der nå.\n",
    "\n",
    "- Den nye funksjonen skal skrives der kommentaren ### TILLEGG 1 nå står i koden\n",
    "- Der det står ### TILLEGG 2, legg til en print-setning med et kall til superlativ(). Hvis brukeren skrev adjektivet \"snill\", skal utskriften bli \"Jeg er faktisk snillest i hele verden.\"\n",
    "- Der det står ### TILLEGG 3, legg til en programdel som spør brukeren \"Hva er superlativ for ...\" (det adjektivet som ble skrevet inn...) og sjekker dette mot fasit på samme måte som koden nå gjør for komparativ.\n",
    "\n",
    "Frivillig ekstraoppgave (ikke nødvendig for å få (c) godkjent, men anbefalt å prøve): Etter dette vil du kanskje se at de to kodefragmentene som sjekker svar mot fasit er ganske like. Klarer du å lage en funksjon for dette, og så kalle denne to ganger, i stedet for å gjenta ganske lik kode to ganger i programmet?"
   ]
  },
  {
   "cell_type": "markdown",
   "metadata": {
    "deletable": false,
    "editable": false,
    "run_control": {
     "frozen": true
    }
   },
   "source": [
    "## Innføring - Del 4: Main-funksjonen\n",
    "\n",
    "Dette er ikke en del av oppgaven, men kan være lurt å lese før du går videre"
   ]
  },
  {
   "cell_type": "markdown",
   "metadata": {
    "deletable": false,
    "editable": false,
    "run_control": {
     "frozen": true
    }
   },
   "source": [
    "Det er vanlig for et program å ha en main-funksjon som blir kalt når programmet starter. Det er denne funksjonen som kaller programmets andre funksjoner når de trengs.\n",
    "\n",
    "Et eksempel på et program med en main-funksjon er vist under. Her er det oppdelt slik at funksjonen kvadrattall gjør en beregning, mens main() står for kommunikasjon med brukeren.\n",
    "\n",
    "I større programmer kunne det også ha vært egne funksjoner for å kommunisere med brukeren, slik at main() bare hadde gjort den overordende styringen både av beregning og brukerkommunikasjon ved å kalle andre funksjoner.\n",
    "\n",
    "Når kode som vi ellers ville hatt i skriptet puttes i en main()-funksjon, blir skriptet kun 1 linje som kaller main-funksjonen, som vist nederst her. Kjør koden selv og se om du skjønner hvordan den funker:"
   ]
  },
  {
   "cell_type": "code",
   "execution_count": null,
   "metadata": {
    "ExecuteTime": {
     "end_time": "2019-07-03T06:12:11.307021Z",
     "start_time": "2019-07-03T06:09:51.377086Z"
    }
   },
   "outputs": [],
   "source": [
    "def kvadrattall(x):\n",
    "    # INN: x, som er ment å være et heltall\n",
    "    # PROSESS: sjekker om x er et kvadrattall\n",
    "    #(dvs. om det fins et heltall y <= x slik at y * y == x)\n",
    "    # UT: hvis ja, returneres y. Ellers returneres False\n",
    "    for y in range(1, x + 1):\n",
    "        if y * y == x:\n",
    "            return y\n",
    "    return False\n",
    "    # vi kommer til siste return bare hvis vi ikke fant kvadrattall\n",
    "    # siden vi ellers vil ha avsluttet funksjonen med return y\n",
    " \n",
    "def main():\n",
    "    tall = int(input(\"Gi et heltall >0, eller 0 for å slutte: \"))\n",
    "    while tall > 0:\n",
    "        rot = kvadrattall(tall)\n",
    "        if rot:\n",
    "            print(tall, \"=\", rot, \"*\", rot, \"; m.a.o. et kvadrattall\")\n",
    "        else:\n",
    "            print(tall, \"er ikke et kvadrattall.\")\n",
    "        tall = int(input(\"Gi et heltall >0, eller 0 for å slutte: \"))\n",
    " \n",
    "# SKRIPT \n",
    "main()"
   ]
  },
  {
   "cell_type": "markdown",
   "metadata": {
    "deletable": false,
    "editable": false,
    "run_control": {
     "frozen": true
    }
   },
   "source": [
    "Et annet poeng som denne koden illustrerer, er at **return** ikke er begrenset til å stå i siste setning i en funksjon.\n",
    "\n",
    "Her har vi dessuten en return som står inni en if-setning. Grunnen er at hvis vi finner svaret, er det ikke vits å fortsette flere runder med løkka; return vil gjøre at vi avslutter funksjonen."
   ]
  },
  {
   "cell_type": "markdown",
   "metadata": {},
   "source": [
    "## c)"
   ]
  },
  {
   "cell_type": "markdown",
   "metadata": {
    "deletable": false,
    "editable": false,
    "run_control": {
     "frozen": true
    }
   },
   "source": [
    "***Kopier koden du lagde for adjektiv i oppgave (b) inn under. Endre den ved å lage en main-funksjon for det som nå er skriptet, slik at skriptet bare blir et kall til main().***"
   ]
  },
  {
   "cell_type": "code",
   "execution_count": null,
   "metadata": {},
   "outputs": [],
   "source": [
    "def adjektiv(adj, type):\n",
    "    if type == 1:                #Komparativ\n",
    "        if len(adj) >= 8:  \n",
    "            svar = \"mer \" + adj\n",
    "        else:\n",
    "            svar = adj + \"ere\"\n",
    "        return svar\n",
    "    elif type == 2:               #Superlativ\n",
    "        if len(adj) >= 8:\n",
    "            svar = \"mest \" + adj\n",
    "        else:\n",
    "            svar = adj + \"est\"\n",
    "        return svar\n",
    "    else:\n",
    "        mess = \"Wrong Command\"\n",
    "        return mess\n",
    "\n",
    "\n",
    "def main():\n",
    "    Quit = False\n",
    "    while Quit == False:\n",
    "        type = int(input(\"Velg Type: \\n 1 = Komparativ \\n 2 = Superlativ\\n 0 = Quit \\n\"))\n",
    "        if type == 0: \n",
    "            print(\"Avslutter...\")\n",
    "            Quit = True\n",
    "            break\n",
    "             \n",
    "        adj = input(\"Skriv inn et adjektiv: \")\n",
    "\n",
    "        if type == 1: \n",
    "            svar = input(f\"Hva er komparativ for\" + adj + \"? \")\n",
    "            fasit = adjektiv(adj,type)\n",
    "        elif type == 2:\n",
    "            svar = input(f\"Hva er superlativ for\" + adj + \"? \")\n",
    "            fasit = adjektiv(adj,type)\n",
    "        \n",
    "        if svar == fasit:\n",
    "            print(\"Korrekt!\")\n",
    "        else:\n",
    "            print(\"Feil, det var\", fasit)\n",
    "                    \n",
    "main()      "
   ]
  },
  {
   "cell_type": "markdown",
   "metadata": {
    "deletable": false,
    "editable": false,
    "run_control": {
     "frozen": true
    }
   },
   "source": [
    "Kjøring av koden skal gi samme resultat som tidligere."
   ]
  },
  {
   "cell_type": "markdown",
   "metadata": {
    "deletable": false,
    "editable": false,
    "heading_collapsed": true,
    "run_control": {
     "frozen": true
    }
   },
   "source": [
    "#### Framgangsmåte"
   ]
  },
  {
   "cell_type": "markdown",
   "metadata": {
    "deletable": false,
    "editable": false,
    "hidden": true,
    "run_control": {
     "frozen": true
    }
   },
   "source": [
    "1. Definer funksjonen og kall den main. Funksjonen skal IKKE ta inn noen argumenter.\n",
    "2. Flytt kodelinjene som nå står i skriptet (dvs., som foreløpig ikke er del av noen funksjon) inn i main-funksjonen. Pass på riktig innrykk!\n",
    "3. Legg til helt nederst i koden, ute på ytterste marg, et kall til main()."
   ]
  }
 ],
 "metadata": {
  "kernelspec": {
   "display_name": "Python 3 (ipykernel)",
   "language": "python",
   "name": "python3"
  },
  "language_info": {
   "codemirror_mode": {
    "name": "ipython",
    "version": 3
   },
   "file_extension": ".py",
   "mimetype": "text/x-python",
   "name": "python",
   "nbconvert_exporter": "python",
   "pygments_lexer": "ipython3",
   "version": "3.11.6"
  },
  "toc": {
   "base_numbering": 1,
   "nav_menu": {},
   "number_sections": false,
   "sideBar": true,
   "skip_h1_title": false,
   "title_cell": "Table of Contents",
   "title_sidebar": "Contents",
   "toc_cell": false,
   "toc_position": {},
   "toc_section_display": true,
   "toc_window_display": false
  }
 },
 "nbformat": 4,
 "nbformat_minor": 4
}
